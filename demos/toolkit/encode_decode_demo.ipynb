{
 "cells": [
  {
   "metadata": {},
   "cell_type": "markdown",
   "source": "# $\\Phi$-SO demo : Encoding and decoding expressions\n",
   "id": "25629b1901b6fe0f"
  },
  {
   "metadata": {},
   "cell_type": "markdown",
   "source": "## Quick Start",
   "id": "9cec793d736190b0"
  },
  {
   "metadata": {},
   "cell_type": "markdown",
   "source": "### Library of choosable tokens",
   "id": "a4137411268e2891"
  },
  {
   "metadata": {},
   "cell_type": "markdown",
   "source": "### Encoding expressions",
   "id": "d4369205d3fb9f92"
  },
  {
   "metadata": {},
   "cell_type": "markdown",
   "source": "### Decoding expressions",
   "id": "e2aee7e459ace1e1"
  },
  {
   "metadata": {},
   "cell_type": "markdown",
   "source": "## Expression decoding for loop",
   "id": "b5682db4675eff1b"
  },
  {
   "metadata": {},
   "cell_type": "markdown",
   "source": "### About priors",
   "id": "8948e17bcdb80787"
  },
  {
   "metadata": {},
   "cell_type": "markdown",
   "source": "### Insert your ML model here 👇",
   "id": "d8ec4171dbda7c0b"
  },
  {
   "metadata": {},
   "cell_type": "code",
   "outputs": [],
   "execution_count": null,
   "source": "",
   "id": "859341b785e85ab0"
  },
  {
   "metadata": {},
   "cell_type": "markdown",
   "source": "## Evaluating Expressions",
   "id": "c7c52aef766508a7"
  },
  {
   "metadata": {},
   "cell_type": "markdown",
   "source": "",
   "id": "85a6fc44325a2879"
  },
  {
   "metadata": {
    "ExecuteTime": {
     "end_time": "2025-07-29T16:35:27.269821Z",
     "start_time": "2025-07-29T16:35:27.209811Z"
    }
   },
   "cell_type": "code",
   "source": [
    "import shutil\n",
    "\n",
    "shutil.which('latex')\n",
    "\n",
    "import matplotlib\n",
    "usetex = matplotlib.checkdep_usetex(True)"
   ],
   "id": "75831aac67e8f33e",
   "outputs": [
    {
     "ename": "AttributeError",
     "evalue": "module 'matplotlib' has no attribute 'checkdep_usetex'",
     "output_type": "error",
     "traceback": [
      "\u001B[31m---------------------------------------------------------------------------\u001B[39m",
      "\u001B[31mAttributeError\u001B[39m                            Traceback (most recent call last)",
      "\u001B[36mCell\u001B[39m\u001B[36m \u001B[39m\u001B[32mIn[3]\u001B[39m\u001B[32m, line 6\u001B[39m\n\u001B[32m      3\u001B[39m shutil.which(\u001B[33m'\u001B[39m\u001B[33mlatex\u001B[39m\u001B[33m'\u001B[39m)\n\u001B[32m      5\u001B[39m \u001B[38;5;28;01mimport\u001B[39;00m\u001B[38;5;250m \u001B[39m\u001B[34;01mmatplotlib\u001B[39;00m\n\u001B[32m----> \u001B[39m\u001B[32m6\u001B[39m usetex = matplotlib.checkdep_usetex(\u001B[38;5;28;01mTrue\u001B[39;00m)\n",
      "\u001B[36mFile \u001B[39m\u001B[32m/opt/homebrew/anaconda3/envs/PhySO/lib/python3.12/site-packages/matplotlib/_api/__init__.py:218\u001B[39m, in \u001B[36mcaching_module_getattr.<locals>.__getattr__\u001B[39m\u001B[34m(name)\u001B[39m\n\u001B[32m    216\u001B[39m \u001B[38;5;28;01mif\u001B[39;00m name \u001B[38;5;129;01min\u001B[39;00m props:\n\u001B[32m    217\u001B[39m     \u001B[38;5;28;01mreturn\u001B[39;00m props[name].\u001B[34m__get__\u001B[39m(instance)\n\u001B[32m--> \u001B[39m\u001B[32m218\u001B[39m \u001B[38;5;28;01mraise\u001B[39;00m \u001B[38;5;167;01mAttributeError\u001B[39;00m(\n\u001B[32m    219\u001B[39m     \u001B[33mf\u001B[39m\u001B[33m\"\u001B[39m\u001B[33mmodule \u001B[39m\u001B[38;5;132;01m{\u001B[39;00m\u001B[38;5;28mcls\u001B[39m.\u001B[34m__module__\u001B[39m\u001B[38;5;132;01m!r}\u001B[39;00m\u001B[33m has no attribute \u001B[39m\u001B[38;5;132;01m{\u001B[39;00mname\u001B[38;5;132;01m!r}\u001B[39;00m\u001B[33m\"\u001B[39m)\n",
      "\u001B[31mAttributeError\u001B[39m: module 'matplotlib' has no attribute 'checkdep_usetex'"
     ]
    }
   ],
   "execution_count": 3
  },
  {
   "metadata": {},
   "cell_type": "markdown",
   "source": "### Optimizing free constants",
   "id": "74bb89e7e984f0e6"
  },
  {
   "metadata": {},
   "cell_type": "markdown",
   "source": "## Embedding features",
   "id": "553d6139eca7a525"
  },
  {
   "metadata": {},
   "cell_type": "markdown",
   "source": "### Tree structure",
   "id": "203a74f3021eb3d"
  },
  {
   "metadata": {},
   "cell_type": "markdown",
   "source": "### Units",
   "id": "eeefe26505fee8e3"
  }
 ],
 "metadata": {
  "kernelspec": {
   "display_name": "Python 3",
   "language": "python",
   "name": "python3"
  },
  "language_info": {
   "codemirror_mode": {
    "name": "ipython",
    "version": 2
   },
   "file_extension": ".py",
   "mimetype": "text/x-python",
   "name": "python",
   "nbconvert_exporter": "python",
   "pygments_lexer": "ipython2",
   "version": "2.7.6"
  }
 },
 "nbformat": 4,
 "nbformat_minor": 5
}

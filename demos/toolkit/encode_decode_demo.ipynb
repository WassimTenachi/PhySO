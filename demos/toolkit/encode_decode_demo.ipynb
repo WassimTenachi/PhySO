{
 "cells": [
  {
   "metadata": {},
   "cell_type": "markdown",
   "source": "# $\\Phi$-SO demo : Encoding and decoding expressions\n",
   "id": "25629b1901b6fe0f"
  },
  {
   "metadata": {},
   "cell_type": "markdown",
   "source": "## Quick Start",
   "id": "9cec793d736190b0"
  },
  {
   "metadata": {},
   "cell_type": "markdown",
   "source": "### Library of choosable tokens",
   "id": "a4137411268e2891"
  },
  {
   "metadata": {},
   "cell_type": "markdown",
   "source": "### Encoding mathematical expressions",
   "id": "d4369205d3fb9f92"
  },
  {
   "metadata": {},
   "cell_type": "markdown",
   "source": "### Decoding mathematical expressions",
   "id": "e2aee7e459ace1e1"
  },
  {
   "metadata": {},
   "cell_type": "markdown",
   "source": "## For loop : Insert your ML model here 👇",
   "id": "b5682db4675eff1b"
  },
  {
   "metadata": {},
   "cell_type": "markdown",
   "source": "## Features",
   "id": "8948e17bcdb80787"
  },
  {
   "metadata": {},
   "cell_type": "markdown",
   "source": "### Priors",
   "id": "3261f31e9afe0a5"
  },
  {
   "metadata": {},
   "cell_type": "markdown",
   "source": "### Evaluating Expressions",
   "id": "c7c52aef766508a7"
  },
  {
   "metadata": {},
   "cell_type": "markdown",
   "source": "### Optimizing free constants",
   "id": "74bb89e7e984f0e6"
  },
  {
   "metadata": {},
   "cell_type": "markdown",
   "source": "### Expressions are auto-differentiable",
   "id": "79d9f04ab8ce1de3"
  },
  {
   "metadata": {},
   "cell_type": "markdown",
   "source": "### Sympy export",
   "id": "f156fe88d0d9b141"
  },
  {
   "metadata": {},
   "cell_type": "markdown",
   "source": "### Tree structure",
   "id": "203a74f3021eb3d"
  },
  {
   "metadata": {},
   "cell_type": "markdown",
   "source": "### Physical units",
   "id": "eeefe26505fee8e3"
  },
  {
   "metadata": {},
   "cell_type": "markdown",
   "source": "### Class Expression : Exploiting multiple datasets",
   "id": "88fa134be2bf5e1d"
  }
 ],
 "metadata": {
  "kernelspec": {
   "display_name": "Python 3",
   "language": "python",
   "name": "python3"
  },
  "language_info": {
   "codemirror_mode": {
    "name": "ipython",
    "version": 2
   },
   "file_extension": ".py",
   "mimetype": "text/x-python",
   "name": "python",
   "nbconvert_exporter": "python",
   "pygments_lexer": "ipython2",
   "version": "2.7.6"
  }
 },
 "nbformat": 4,
 "nbformat_minor": 5
}

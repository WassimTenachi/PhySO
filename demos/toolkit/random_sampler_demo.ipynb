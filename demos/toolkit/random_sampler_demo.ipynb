{
 "cells": [
  {
   "cell_type": "markdown",
   "id": "1ad08bd998fdab72",
   "metadata": {},
   "source": [
    "# $\\Phi$-SO demo : Generating random expressions"
   ]
  },
  {
   "metadata": {},
   "cell_type": "markdown",
   "source": [
    "This notebook demonstrates how to use `physo.toolkit` to randomly generate symbolic mathematical equations.\n",
    "\n",
    "\n",
    "These equations are constructed from a customizable library of tokens-including mathematical operators, variables, and numerical constants-and are encoded in a format suitable for training machine learning models.\n",
    "\n",
    "\n",
    "Key features include:\n",
    "- __Length-controlled sampling__: Equations are sampled with a Gaussian prior over expression length.\n",
    "- __Custom structural priors__: You can enforce specific structural properties, such as prohibiting nested trigonometric functions or setting token occurrence constraints.\n",
    "- __Dimensional analysis__: Equations can be generated with physically consistent units, and unit information is preserved throughout the expression tree.\n",
    "- __Evaluation and parameter fitting__: Equations can be numerically evaluated, and their free parameters optimized as needed.\n",
    "- __Auto-differentiable structures__: Expression trees are compatible with automatic differentiation.\n",
    "- __Flexible export__: Equations can be exported to various formats including SymPy objects, LaTeX, and infix notation."
   ],
   "id": "8248c4496dd8304a"
  },
  {
   "metadata": {
    "ExecuteTime": {
     "end_time": "2025-07-30T07:36:20.986291Z",
     "start_time": "2025-07-30T07:36:20.975703Z"
    }
   },
   "cell_type": "code",
   "source": [
    "import os\n",
    "import numpy as np\n",
    "import matplotlib.pyplot as plt\n",
    "import torch\n",
    "import warnings"
   ],
   "id": "46dc4ccc0dd6e556",
   "outputs": [],
   "execution_count": 65
  },
  {
   "metadata": {
    "ExecuteTime": {
     "end_time": "2025-07-30T07:36:21.020777Z",
     "start_time": "2025-07-30T07:36:21.017514Z"
    }
   },
   "cell_type": "code",
   "source": [
    "# Internal code import\n",
    "import physo\n",
    "import physo.toolkit.random_sampler as rs"
   ],
   "id": "d3ddd0d544df9659",
   "outputs": [],
   "execution_count": 66
  },
  {
   "cell_type": "markdown",
   "id": "e2b0525e-ddae-4061-a833-f532c112ab0b",
   "metadata": {},
   "source": [
    "Seed"
   ]
  },
  {
   "cell_type": "code",
   "id": "94d6679b8f2d4ea7",
   "metadata": {
    "ExecuteTime": {
     "end_time": "2025-07-30T07:36:21.058836Z",
     "start_time": "2025-07-30T07:36:21.050847Z"
    }
   },
   "source": [
    "seed = 42\n",
    "np.random.seed(seed)\n",
    "torch.manual_seed(seed)"
   ],
   "outputs": [
    {
     "data": {
      "text/plain": [
       "<torch._C.Generator at 0x10a5c95f0>"
      ]
     },
     "execution_count": 67,
     "metadata": {},
     "output_type": "execute_result"
    }
   ],
   "execution_count": 67
  },
  {
   "cell_type": "markdown",
   "id": "e103bec6bee18d7f",
   "metadata": {},
   "source": [
    "Device"
   ]
  },
  {
   "cell_type": "code",
   "id": "a97199d800f37547",
   "metadata": {
    "ExecuteTime": {
     "end_time": "2025-07-30T07:36:21.095257Z",
     "start_time": "2025-07-30T07:36:21.092402Z"
    }
   },
   "source": [
    "device = \"cuda\" if torch.cuda.is_available() else \"cpu\""
   ],
   "outputs": [],
   "execution_count": 68
  },
  {
   "cell_type": "markdown",
   "id": "56e9b2025ffc26d8",
   "metadata": {},
   "source": [
    "## Quick start\n",
    "Generating random expressions."
   ]
  },
  {
   "cell_type": "markdown",
   "id": "5f18dcdd55ddea61",
   "metadata": {},
   "source": [
    "Generating $1000$ random expressions having a length around 12 (with a gaussian soft prior having a scale of 5) with a max length of 30. Here we are using allowing up to input variables $x_1, x_2, x_3, x_4, x_5, x_6$ and one output variable $y$ along with a fixed constant $1$ and three free constants $c_0, c_1, c_2$."
   ]
  },
  {
   "cell_type": "code",
   "id": "bf05e5a2978d0580",
   "metadata": {
    "ExecuteTime": {
     "end_time": "2025-07-30T07:36:21.483005Z",
     "start_time": "2025-07-30T07:36:21.119251Z"
    }
   },
   "source": [
    "expressions = rs.sample_random_expressions(\n",
    "    # Batch size\n",
    "    batch_size=1000,\n",
    "    # Max length\n",
    "    max_length=30,\n",
    "    # Soft length prior\n",
    "    soft_length_loc = 12.,\n",
    "    soft_length_scale = 5.,\n",
    "    # X\n",
    "    X_names = [\"x1\", \"x2\", \"x3\", \"x4\", \"x5\", \"x6\",],\n",
    "    # y\n",
    "    y_name = \"y\",\n",
    "    # Fixed constants\n",
    "    fixed_consts       = [1.],\n",
    "    # Class free constants\n",
    "    class_free_consts_names = [\"c0\", \"c1\", \"c2\",],\n",
    "    # Operations to use\n",
    "    op_names = [\"add\", \"sub\", \"mul\", \"div\", \"pow\", \"log\", \"exp\", \"cos\"],\n",
    "    # Device to use\n",
    "    device=device,\n",
    "    # verbose\n",
    "    verbose=False\n",
    ")"
   ],
   "outputs": [
    {
     "name": "stderr",
     "output_type": "stream",
     "text": [
      "/Users/wtenachi/Documents/ASTRO_research/projects/AI_physicist/my_AI_physicist/PhySO/PhySO/physo/task/args_handler.py:94: UserWarning: No units given for input variables, assuming dimensionless units.\n",
      "  warnings.warn(\"No units given for input variables, assuming dimensionless units.\")\n",
      "/Users/wtenachi/Documents/ASTRO_research/projects/AI_physicist/my_AI_physicist/PhySO/PhySO/physo/task/args_handler.py:106: UserWarning: No units given for root variable, assuming dimensionless units.\n",
      "  warnings.warn(\"No units given for root variable, assuming dimensionless units.\")\n",
      "/Users/wtenachi/Documents/ASTRO_research/projects/AI_physicist/my_AI_physicist/PhySO/PhySO/physo/task/args_handler.py:126: UserWarning: No units given for fixed constants, assuming dimensionless units.\n",
      "  warnings.warn(\"No units given for fixed constants, assuming dimensionless units.\")\n",
      "/Users/wtenachi/Documents/ASTRO_research/projects/AI_physicist/my_AI_physicist/PhySO/PhySO/physo/task/args_handler.py:153: UserWarning: No units given for class free constants, assuming dimensionless units.\n",
      "  warnings.warn(\"No units given for class free constants, assuming dimensionless units.\")\n"
     ]
    }
   ],
   "execution_count": 69
  },
  {
   "cell_type": "markdown",
   "id": "30c1d355ab949c2c",
   "metadata": {},
   "source": [
    "### Stats"
   ]
  },
  {
   "cell_type": "code",
   "id": "35b7329d1d0081ef",
   "metadata": {
    "ExecuteTime": {
     "end_time": "2025-07-30T07:36:21.507357Z",
     "start_time": "2025-07-30T07:36:21.502386Z"
    }
   },
   "source": [
    "# Number of expressions generated\n",
    "print(\"Number of expressions generated:\", expressions.batch_size)\n",
    "# Expressions lengths\n",
    "print(\"Mean expression length:\", np.mean(expressions.n_lengths))\n",
    "# Number of expressions containing input variables\n",
    "contains_input_vars = expressions.tokens.is_input_var.sum(axis=1)>0\n",
    "print(\"Number of expressions containing input variables:\", np.sum(contains_input_vars))"
   ],
   "outputs": [
    {
     "name": "stdout",
     "output_type": "stream",
     "text": [
      "Number of expressions generated: 1000\n",
      "Mean expression length: 12.448\n",
      "Number of expressions containing input variables: 986\n"
     ]
    }
   ],
   "execution_count": 70
  },
  {
   "cell_type": "code",
   "id": "2d6c5bfbe817294c",
   "metadata": {
    "ExecuteTime": {
     "end_time": "2025-07-30T07:36:21.661203Z",
     "start_time": "2025-07-30T07:36:21.545406Z"
    }
   },
   "source": [
    "fig, ax = plt.subplots(1, 1, figsize=(10, 5))\n",
    "bins = 16\n",
    "ax.hist(expressions.n_lengths, bins=bins, histtype='step', color='k', linewidth=1.5, label='All Expressions')\n",
    "ax.hist(expressions.n_lengths[contains_input_vars], bins=bins, color='b', alpha=0.2, label='Contains Input Variables')\n",
    "ax.set_xlabel('Expression Length')\n",
    "ax.set_ylabel('Frequency')\n",
    "ax.legend()\n",
    "ax.set_title('Histogram of Expression Lengths')\n",
    "plt.show()\n"
   ],
   "outputs": [
    {
     "data": {
      "text/plain": [
       "<Figure size 1000x500 with 1 Axes>"
      ],
      "image/png": "[encoded data removed]"
     },
     "metadata": {},
     "output_type": "display_data"
    }
   ],
   "execution_count": 71
  },
  {
   "cell_type": "code",
   "id": "161d5081e4b95979",
   "metadata": {
    "ExecuteTime": {
     "end_time": "2025-07-30T07:36:21.704335Z",
     "start_time": "2025-07-30T07:36:21.702206Z"
    }
   },
   "source": [],
   "outputs": [],
   "execution_count": null
  },
  {
   "cell_type": "markdown",
   "id": "f03e3e3f43659ed0",
   "metadata": {},
   "source": [
    "## More about expression generation"
   ]
  },
  {
   "cell_type": "markdown",
   "id": "5b697e5cba0c0bda",
   "metadata": {},
   "source": [
    "### Using custom priors\n",
    "Generating random expressions using custom priors the expressions.\n",
    "See [priors doc](https://physo.readthedocs.io/en/latest/r_features.html#priors) for a description of all available priors."
   ]
  },
  {
   "cell_type": "markdown",
   "id": "a37b78f236342a01",
   "metadata": {},
   "source": [
    "#### Priors to use"
   ]
  },
  {
   "cell_type": "code",
   "id": "20ea4b9ffdcff95a",
   "metadata": {
    "ExecuteTime": {
     "end_time": "2025-07-30T07:36:21.750064Z",
     "start_time": "2025-07-30T07:36:21.745897Z"
    }
   },
   "source": [
    "max_length = 40\n",
    "priors_config = [\n",
    "    # Uniform probability distribution over tokens by their arities.\n",
    "    (\"UniformArityPrior\", None),\n",
    "    # Hard length prior: all expressions must have a length between min_length and max_length.\n",
    "    (\"HardLengthPrior\"  , {\"min_length\": 4, \"max_length\": max_length, }),\n",
    "    # Soft length prior: all expressions have a gaussian prior with mean length and scale.\n",
    "    (\"SoftLengthPrior\"  , {\"length_loc\": 8, \"scale\": 5, }),\n",
    "    # Avoiding eg. log(exp(...)) or sqrt((...)^2)\n",
    "    (\"NoUselessInversePrior\"  , None),\n",
    "    # Enforcing dimensional analysis with escape for probs < float epsilon.\n",
    "    # (\"PhysicalUnitsPrior\", {\"prob_eps\": np.finfo(np.float32).eps}),\n",
    "    # Avoiding eg. exp(...+exp(...)) or log(log(...)) etc.\n",
    "    (\"NestedFunctions\", {\"functions\":[\"exp\",], \"max_nesting\" : 1}),\n",
    "    (\"NestedFunctions\", {\"functions\":[\"log\",], \"max_nesting\" : 1}),\n",
    "    # Avoiding eg. sin(...*cos(...)) or cos(sin(...)) etc.\n",
    "    (\"NestedTrigonometryPrior\", {\"max_nesting\" : 1}),\n",
    "    # Avoiding 1. appearing more than 3 times in an expression.\n",
    "    (\"OccurrencesPrior\", {\"targets\" : [\"1.0\",], \"max\" : [3,] }),\n",
    "]"
   ],
   "outputs": [],
   "execution_count": 72
  },
  {
   "cell_type": "markdown",
   "id": "6a4b964f84124604",
   "metadata": {},
   "source": [
    "#### Generating expressions"
   ]
  },
  {
   "cell_type": "code",
   "id": "7d0843b3c4ba16fd",
   "metadata": {
    "ExecuteTime": {
     "end_time": "2025-07-30T07:36:22.281839Z",
     "start_time": "2025-07-30T07:36:21.772555Z"
    }
   },
   "source": [
    "expressions = rs.sample_random_expressions(\n",
    "    # Batch size\n",
    "    batch_size=1000,\n",
    "    # Max length\n",
    "    max_length=max_length,\n",
    "    # Priors\n",
    "    priors_config = priors_config,\n",
    "    # X\n",
    "    X_names = [\"x1\", \"x2\", \"x3\", \"x4\", \"x5\", \"x6\",],\n",
    "    # y\n",
    "    y_name = \"y\",\n",
    "    # Fixed constants\n",
    "    fixed_consts       = [1.],\n",
    "    # Class free constants\n",
    "    class_free_consts_names = [\"c0\", \"c1\", \"c2\",],\n",
    "    # Operations to use\n",
    "    op_names = [\"mul\", \"add\", \"sub\", \"div\", \"inv\", \"n2\", \"sqrt\", \"neg\", \"exp\", \"log\", \"sin\", \"cos\"],\n",
    "    # Device to use\n",
    "    device=device,\n",
    "    # verbose\n",
    "    verbose=False\n",
    ")"
   ],
   "outputs": [],
   "execution_count": 73
  },
  {
   "cell_type": "markdown",
   "id": "3756b0716dd711ae",
   "metadata": {},
   "source": [
    "#### Stats"
   ]
  },
  {
   "cell_type": "code",
   "id": "3a8f06ef1a67200e",
   "metadata": {
    "ExecuteTime": {
     "end_time": "2025-07-30T07:36:22.304749Z",
     "start_time": "2025-07-30T07:36:22.300434Z"
    }
   },
   "source": [
    "# Number of expressions generated\n",
    "print(\"Number of expressions generated:\", expressions.batch_size)\n",
    "# Expressions lengths\n",
    "print(\"Mean expression length:\", np.mean(expressions.n_lengths))\n",
    "# Number of expressions containing input variables\n",
    "contains_input_vars = expressions.tokens.is_input_var.sum(axis=1)>0\n",
    "print(\"Number of expressions containing input variables:\", np.sum(contains_input_vars))"
   ],
   "outputs": [
    {
     "name": "stdout",
     "output_type": "stream",
     "text": [
      "Number of expressions generated: 1000\n",
      "Mean expression length: 11.989\n",
      "Number of expressions containing input variables: 948\n"
     ]
    }
   ],
   "execution_count": 74
  },
  {
   "cell_type": "code",
   "id": "a706f68b3e7e8058",
   "metadata": {
    "ExecuteTime": {
     "end_time": "2025-07-30T07:36:22.436154Z",
     "start_time": "2025-07-30T07:36:22.335435Z"
    }
   },
   "source": [
    "fig, ax = plt.subplots(1, 1, figsize=(10, 5))\n",
    "bins = 16\n",
    "ax.hist(expressions.n_lengths, bins=bins, histtype='step', color='k', linewidth=1.5, label='All Expressions')\n",
    "ax.hist(expressions.n_lengths[contains_input_vars], bins=bins, color='b', alpha=0.2, label='Contains Input Variables')\n",
    "ax.set_xlabel('Expression Length')\n",
    "ax.set_ylabel('Frequency')\n",
    "ax.legend()\n",
    "ax.set_title('Histogram of Expression Lengths')\n",
    "plt.show()\n"
   ],
   "outputs": [
    {
     "data": {
      "text/plain": [
       "<Figure size 1000x500 with 1 Axes>"
      ],
      "image/png": "[encoded data removed]"
     },
     "metadata": {},
     "output_type": "display_data"
    }
   ],
   "execution_count": 75
  },
  {
   "cell_type": "markdown",
   "id": "d9d13cb5a7c1dd7d",
   "metadata": {},
   "source": [
    "### Obeying Dimensional Analysis Rules\n",
    "Generating random expressions obeying dimensional analysis rules."
   ]
  },
  {
   "cell_type": "markdown",
   "id": "e88144157b8e1ebc",
   "metadata": {},
   "source": [
    "\n",
    "\n",
    "Given variables $l$ (length) and $t$ (time), we want to generate $1000$ expressions for the output variable $y$ (dimensionless) using fixed constants and free constants $L$ (length) and $f$ (frequency). The operations allowed are addition, subtraction, multiplication, division, power, logarithm, exponential, and cosine."
   ]
  },
  {
   "cell_type": "markdown",
   "id": "d23f3e09e148f64f",
   "metadata": {},
   "source": [
    "__DA side notes__:\n",
    "\n",
    "Here we are allowing the use of a fixed constant $1$ of dimension $L^{0}, T^{0}, M^{0}$ (ie dimensionless) and free constants $L$ (dimension $L^{1}, T^{0}, M^{0}$) and $f$ (dimension $L^{0}, T^{-1}, M^{0}$).\n",
    "\n",
    "It should be noted that here the units vector are of size 3 (eg: `[1, 0, 0]`) as in this example the variables have units dependent on length, time and mass only.\n",
    "However, units vectors can be of any size $\\leq 7$ as long as it is consistent across X, y and constants, allowing the user to express any units (dependent on length, time, mass, temperature, electric current, amount of light, or amount of matter).\n",
    "In addition, dimensional analysis can be performed regardless of the order in which units are given, allowing the user to use any convention ([length, mass, time] or [mass, time, length] etc.) as long as it is consistent across X,y and constants."
   ]
  },
  {
   "metadata": {
    "ExecuteTime": {
     "end_time": "2025-07-30T07:36:23.167767Z",
     "start_time": "2025-07-30T07:36:22.549746Z"
    }
   },
   "cell_type": "code",
   "source": [
    "expressions = rs.sample_random_expressions(\n",
    "        # Input variables\n",
    "        X_names = [\"l\", \"t\"],\n",
    "        X_units = [[1,0,0], [0,1,0]],\n",
    "        # Output variable\n",
    "        y_name  = \"y\",\n",
    "        y_units = [0,0,0],\n",
    "        # Fixed constants\n",
    "        fixed_consts       = [1.],\n",
    "        fixed_consts_units = [[0,0,0]],\n",
    "        # Free constants\n",
    "        class_free_consts_names    = [\"L\", \"f\",],\n",
    "        class_free_consts_units    = [[1,0,0], [0,-1,0]],\n",
    "        class_free_consts_init_val = [1., 1.],\n",
    "        # Operations to use\n",
    "        op_names = [\"add\", \"sub\", \"mul\", \"div\", \"log\", \"exp\", \"cos\"],\n",
    "        # Device to use\n",
    "        device=device,\n",
    "        # verbose\n",
    "        verbose=False,\n",
    "                )"
   ],
   "id": "81ecc0032e60316",
   "outputs": [],
   "execution_count": 76
  },
  {
   "metadata": {
    "ExecuteTime": {
     "end_time": "2025-07-30T07:36:23.215066Z",
     "start_time": "2025-07-30T07:36:23.209917Z"
    }
   },
   "cell_type": "code",
   "source": [
    "#Let's keep expressions with dimensional analysis aside for later.\n",
    "expressions_with_da = expressions"
   ],
   "id": "6723ebfcbaabb8ed",
   "outputs": [],
   "execution_count": 77
  },
  {
   "metadata": {},
   "cell_type": "markdown",
   "source": "#### Stats",
   "id": "83c17bf43cd4fbb0"
  },
  {
   "metadata": {
    "ExecuteTime": {
     "end_time": "2025-07-30T07:36:23.273341Z",
     "start_time": "2025-07-30T07:36:23.262125Z"
    }
   },
   "cell_type": "code",
   "source": [
    "# Number of expressions generated\n",
    "print(\"Number of expressions generated:\", expressions.batch_size)\n",
    "# Expressions lengths\n",
    "print(\"Mean expression length:\", np.mean(expressions.n_lengths))\n",
    "# Number of physically correct expressions\n",
    "print(\"Number of physically correct expressions:\", np.sum(expressions.is_physical))\n",
    "# Number of expressions containing input variables\n",
    "contains_input_vars = expressions.tokens.is_input_var.sum(axis=1)>0\n",
    "print(\"Number of expressions containing input variables:\", np.sum(contains_input_vars))"
   ],
   "id": "fbfff0467c3557bc",
   "outputs": [
    {
     "name": "stdout",
     "output_type": "stream",
     "text": [
      "Number of expressions generated: 1000\n",
      "Mean expression length: 27.68\n",
      "Number of physically correct expressions: 354\n",
      "Number of expressions containing input variables: 938\n"
     ]
    }
   ],
   "execution_count": 78
  },
  {
   "cell_type": "code",
   "id": "27acbf169fad818f",
   "metadata": {
    "ExecuteTime": {
     "end_time": "2025-07-30T07:36:23.530460Z",
     "start_time": "2025-07-30T07:36:23.326693Z"
    }
   },
   "source": [
    "fig, ax = plt.subplots(1, 1, figsize=(10, 5))\n",
    "bins = 16\n",
    "ax.hist(expressions.n_lengths, bins=bins, histtype='step', color='k', linewidth=1.5, label='All Expressions')\n",
    "ax.hist(expressions.n_lengths[contains_input_vars], bins=bins, color='b', alpha=0.2, label='Contains Input Variables')\n",
    "ax.hist(expressions.n_lengths[expressions.is_physical], bins=bins, color='r', alpha=0.2, label='Physically Correct Expressions')\n",
    "ax.set_xlabel('Expression Length')\n",
    "ax.set_ylabel('Frequency')\n",
    "ax.legend()\n",
    "ax.set_title('Histogram of Expression Lengths')\n",
    "plt.show()\n"
   ],
   "outputs": [
    {
     "data": {
      "text/plain": [
       "<Figure size 1000x500 with 1 Axes>"
      ],
      "image/png": "[encoded data removed]"
     },
     "metadata": {},
     "output_type": "display_data"
    }
   ],
   "execution_count": 79
  },
  {
   "cell_type": "markdown",
   "id": "a2313feccf9c84a3",
   "metadata": {},
   "source": [
    "## Accessing expressions properties"
   ]
  },
  {
   "cell_type": "code",
   "id": "9ed0488ff4ec5803",
   "metadata": {
    "ExecuteTime": {
     "end_time": "2025-07-30T07:36:23.996644Z",
     "start_time": "2025-07-30T07:36:23.577405Z"
    }
   },
   "source": [
    "expressions = rs.sample_random_expressions(\n",
    "    # Batch size\n",
    "    batch_size=1000,\n",
    "    # Max length\n",
    "    max_length=30,\n",
    "    # Soft length prior\n",
    "    soft_length_loc = 12.,\n",
    "    soft_length_scale = 5.,\n",
    "    # X\n",
    "    X_names = [\"x1\", \"x2\", \"x3\", \"x4\", \"x5\", \"x6\",],\n",
    "    # y\n",
    "    y_name = \"y\",\n",
    "    # Fixed constants\n",
    "    fixed_consts       = [1.],\n",
    "    # Class free constants\n",
    "    class_free_consts_names = [\"c0\", \"c1\", \"c2\",],\n",
    "    # Operations to use\n",
    "    op_names = [\"add\", \"sub\", \"mul\", \"div\", \"pow\", \"log\", \"exp\", \"cos\"],\n",
    "    # Device to use\n",
    "    device=device,\n",
    "    # verbose\n",
    "    verbose=False\n",
    ")"
   ],
   "outputs": [],
   "execution_count": 80
  },
  {
   "cell_type": "markdown",
   "id": "953b940a4d3c1762",
   "metadata": {},
   "source": [
    "### Randomizing free parameter values"
   ]
  },
  {
   "cell_type": "code",
   "id": "4e508af0780c7f21",
   "metadata": {
    "ExecuteTime": {
     "end_time": "2025-07-30T07:36:24.021013Z",
     "start_time": "2025-07-30T07:36:24.016071Z"
    }
   },
   "source": [
    "# Free constants values are stored in :\n",
    "print(expressions.free_consts)\n",
    "# They can be sent to the device via:\n",
    "expressions.free_consts.to(device)\n",
    "# Values are stored in :\n",
    "print(expressions.free_consts.class_values)\n",
    "print(expressions.free_consts.class_values.shape)"
   ],
   "outputs": [
    {
     "name": "stdout",
     "output_type": "stream",
     "text": [
      "FreeConstantsTable\n",
      " -> Class consts (['c0' 'c1' 'c2']) : (1000, np.int64(3))\n",
      " -> Spe consts   ([]) : (1000, np.int64(0), 1)\n",
      "tensor([[1., 1., 1.],\n",
      "        [1., 1., 1.],\n",
      "        [1., 1., 1.],\n",
      "        ...,\n",
      "        [1., 1., 1.],\n",
      "        [1., 1., 1.],\n",
      "        [1., 1., 1.]], dtype=torch.float64)\n",
      "torch.Size([1000, 3])\n"
     ]
    }
   ],
   "execution_count": 81
  },
  {
   "cell_type": "markdown",
   "id": "bf2a08687b5cc9d4",
   "metadata": {},
   "source": [
    "Let's give random values to the free constants."
   ]
  },
  {
   "cell_type": "code",
   "id": "a2185e925c0a48f3",
   "metadata": {
    "ExecuteTime": {
     "end_time": "2025-07-30T07:36:24.055938Z",
     "start_time": "2025-07-30T07:36:24.052590Z"
    }
   },
   "source": [
    "expressions.free_consts.class_values = torch.rand((expressions.batch_size, expressions.free_consts.n_class_free_const), device=device)\n",
    "print(expressions.free_consts.class_values)\n",
    "print(expressions.free_consts.class_values.shape)"
   ],
   "outputs": [
    {
     "name": "stdout",
     "output_type": "stream",
     "text": [
      "tensor([[0.8823, 0.9150, 0.3829],\n",
      "        [0.9593, 0.3904, 0.6009],\n",
      "        [0.2566, 0.7936, 0.9408],\n",
      "        ...,\n",
      "        [0.4994, 0.5895, 0.3921],\n",
      "        [0.6545, 0.1140, 0.2252],\n",
      "        [0.8451, 0.0134, 0.5785]])\n",
      "torch.Size([1000, 3])\n"
     ]
    }
   ],
   "execution_count": 82
  },
  {
   "cell_type": "markdown",
   "id": "55fad999385ec514",
   "metadata": {},
   "source": [
    "### Inspecting an expression"
   ]
  },
  {
   "cell_type": "markdown",
   "id": "6d3f16e5ec87b380",
   "metadata": {},
   "source": [
    "Let's inspect expression number 21 of the batch."
   ]
  },
  {
   "metadata": {
    "ExecuteTime": {
     "end_time": "2025-07-30T07:36:24.090580Z",
     "start_time": "2025-07-30T07:36:24.085914Z"
    }
   },
   "cell_type": "code",
   "source": "expr = expressions[21]",
   "id": "b02fcf98b3c24413",
   "outputs": [],
   "execution_count": 83
  },
  {
   "metadata": {},
   "cell_type": "markdown",
   "source": "Showing expression in all available formats:",
   "id": "7d77d98339b330ba"
  },
  {
   "metadata": {
    "ExecuteTime": {
     "end_time": "2025-07-30T07:36:24.124620Z",
     "start_time": "2025-07-30T07:36:24.122330Z"
    }
   },
   "cell_type": "code",
   "source": "print(\"Infix str:\\n\", (expr.get_infix_str()))",
   "id": "4313bd1c5e00702b",
   "outputs": [
    {
     "name": "stdout",
     "output_type": "stream",
     "text": [
      "Infix str:\n",
      " (log(cos((x2*c2)))*cos(x6))\n"
     ]
    }
   ],
   "execution_count": 84
  },
  {
   "cell_type": "code",
   "id": "9702bafb4f478199",
   "metadata": {
    "ExecuteTime": {
     "end_time": "2025-07-30T07:36:24.194128Z",
     "start_time": "2025-07-30T07:36:24.160949Z"
    }
   },
   "source": [
    "print(\"Prefix notation:\\n\", expr)\n",
    "print(\"Sympy:\\n\", (expr.get_infix_sympy()))\n",
    "print(\"Infix representation str:\\n\", (expr.get_infix_str()))\n",
    "print(\"Pretty\\n:\")\n",
    "print(expr.get_infix_pretty())\n",
    "print(\"Latex:\\n\", expr.get_infix_latex())\n",
    "print(\"Image:\\n\", expr.show_infix())"
   ],
   "outputs": [
    {
     "name": "stdout",
     "output_type": "stream",
     "text": [
      "Prefix notation:\n",
      " [mul log cos mul x2 c2 cos x6]\n",
      "Sympy:\n",
      " log(cos(c2*x2))*cos(x6)\n",
      "Infix representation str:\n",
      " (log(cos((x2*c2)))*cos(x6))\n",
      "Pretty\n",
      ":\n",
      "log(cos(c₂⋅x₂))⋅cos(x₆)\n",
      "Latex:\n",
      " \\log{\\left(\\cos{\\left(c_{2} x_{2} \\right)} \\right)} \\cos{\\left(x_{6} \\right)}\n"
     ]
    },
    {
     "data": {
      "text/plain": [
       "<Figure size 1000x100 with 1 Axes>"
      ],
      "image/png": "[encoded data removed]"
     },
     "metadata": {},
     "output_type": "display_data"
    },
    {
     "name": "stdout",
     "output_type": "stream",
     "text": [
      "Image:\n",
      " None\n"
     ]
    }
   ],
   "execution_count": 85
  },
  {
   "cell_type": "markdown",
   "id": "ed647104ecad44a6",
   "metadata": {},
   "source": [
    "Expressions can also be showed with evaluated constants:"
   ]
  },
  {
   "cell_type": "code",
   "id": "305e83ab258dc19c",
   "metadata": {
    "ExecuteTime": {
     "end_time": "2025-07-30T07:36:24.219941Z",
     "start_time": "2025-07-30T07:36:24.213629Z"
    }
   },
   "source": [
    "print(expr.get_infix_sympy(evaluate_consts=True)[0])"
   ],
   "outputs": [
    {
     "name": "stdout",
     "output_type": "stream",
     "text": [
      "log(cos(0.395829260349274*x2))*cos(x6)\n"
     ]
    }
   ],
   "execution_count": 86
  },
  {
   "cell_type": "markdown",
   "id": "81c0cdadc2bb3eca",
   "metadata": {},
   "source": [
    "### Evaluating an expression\n"
   ]
  },
  {
   "cell_type": "code",
   "id": "b35331dc2fcf6366",
   "metadata": {
    "ExecuteTime": {
     "end_time": "2025-07-30T07:36:24.356827Z",
     "start_time": "2025-07-30T07:36:24.250322Z"
    }
   },
   "source": [
    "# Making synthetic data\n",
    "n_samples = 1000\n",
    "X = torch.tensor(np.random.uniform(-1, 1, size=(6, n_samples))).to(device)\n",
    "# Evaluating the expression\n",
    "y = expr(X)\n",
    "# Showing free constants values\n",
    "print(\"Free consts:\", expr.free_consts.class_values)\n",
    "# Figure\n",
    "fig, ax = plt.subplots(1, 1, figsize=(10, 5))\n",
    "ax.plot(X[1].cpu().numpy(), y.detach().cpu().numpy(), 'k.', markersize=2, label='Data')\n"
   ],
   "outputs": [
    {
     "name": "stdout",
     "output_type": "stream",
     "text": [
      "Free consts: tensor([[0.3278, 0.6532, 0.3958]])\n"
     ]
    },
    {
     "data": {
      "text/plain": [
       "[<matplotlib.lines.Line2D at 0x17a885730>]"
      ]
     },
     "execution_count": 87,
     "metadata": {},
     "output_type": "execute_result"
    },
    {
     "data": {
      "text/plain": [
       "<Figure size 1000x500 with 1 Axes>"
      ],
      "image/png": "[encoded data removed]"
     },
     "metadata": {},
     "output_type": "display_data"
    }
   ],
   "execution_count": 87
  },
  {
   "cell_type": "markdown",
   "id": "a51feee7b7b231f5",
   "metadata": {},
   "source": [
    "### Optimizing free parameters of an expression"
   ]
  },
  {
   "cell_type": "markdown",
   "id": "4276296cdc8f9cb1",
   "metadata": {},
   "source": [
    "Note that free constant optimization is typically faster on the CPU."
   ]
  },
  {
   "cell_type": "markdown",
   "id": "1de750de37ed3b7c",
   "metadata": {},
   "source": [
    "Making fake target data to optimize the expression."
   ]
  },
  {
   "cell_type": "code",
   "id": "d170ec2bbf11ae21",
   "metadata": {
    "ExecuteTime": {
     "end_time": "2025-07-30T07:36:24.390944Z",
     "start_time": "2025-07-30T07:36:24.377020Z"
    }
   },
   "source": [
    "# Target data with current free constants values\n",
    "y_target = expr(X)\n",
    "# Randomizing free constants values\n",
    "expr.free_consts.class_values = torch.rand((1,3), device=device)\n",
    "const_before_opti = expr.free_consts.class_values\n",
    "print(\"Free consts (before optimization):\", const_before_opti)"
   ],
   "outputs": [
    {
     "name": "stdout",
     "output_type": "stream",
     "text": [
      "Free consts (before optimization): tensor([[0.8849, 0.8748, 0.6706]])\n"
     ]
    }
   ],
   "execution_count": 88
  },
  {
   "cell_type": "markdown",
   "id": "f0d6b54a54d139b0",
   "metadata": {},
   "source": [
    "Optimizing the expression"
   ]
  },
  {
   "cell_type": "code",
   "id": "15e489e7cd7ecc20",
   "metadata": {
    "ExecuteTime": {
     "end_time": "2025-07-30T07:36:24.498350Z",
     "start_time": "2025-07-30T07:36:24.417215Z"
    }
   },
   "source": [
    "history = expr.optimize_constants(X, y_target)\n",
    "\n",
    "# Showing free constants values\n",
    "const_after_opti = expr.free_consts.class_values\n",
    "print(\"Free consts (after optimization):\", const_after_opti)\n",
    "\n",
    "# Showing optimization history\n",
    "fig, ax = plt.subplots(1, 1, figsize=(10, 5))\n",
    "ax.plot(history, label='Loss', color='k')\n",
    "ax.set_xlabel('Iteration')\n",
    "ax.set_ylabel('Loss')\n",
    "ax.set_yscale('log')\n",
    "ax.legend()\n",
    "plt.show()"
   ],
   "outputs": [
    {
     "name": "stdout",
     "output_type": "stream",
     "text": [
      "Free consts (after optimization): tensor([[0.8849, 0.8748, 0.3958]], requires_grad=True)\n"
     ]
    },
    {
     "data": {
      "text/plain": [
       "<Figure size 1000x500 with 1 Axes>"
      ],
      "image/png": "[encoded data removed]"
     },
     "metadata": {},
     "output_type": "display_data"
    }
   ],
   "execution_count": 89
  },
  {
   "cell_type": "code",
   "id": "27f6ca0fb8f31007",
   "metadata": {
    "ExecuteTime": {
     "end_time": "2025-07-30T07:36:24.572946Z",
     "start_time": "2025-07-30T07:36:24.517255Z"
    }
   },
   "source": [
    "# Fitness\n",
    "fig, ax = plt.subplots(1, 1, figsize=(3, 3))\n",
    "ax.plot(y_target.detach().cpu().numpy(), expr(X).detach().cpu().numpy(), 'k.', markersize=2,)\n",
    "ax.set_xlabel('Target y')\n",
    "ax.set_ylabel('Predicted y')"
   ],
   "outputs": [
    {
     "data": {
      "text/plain": [
       "Text(0, 0.5, 'Predicted y')"
      ]
     },
     "execution_count": 90,
     "metadata": {},
     "output_type": "execute_result"
    },
    {
     "data": {
      "text/plain": [
       "<Figure size 300x300 with 1 Axes>"
      ],
      "image/png": "[encoded data removed]"
     },
     "metadata": {},
     "output_type": "display_data"
    }
   ],
   "execution_count": 90
  },
  {
   "cell_type": "markdown",
   "id": "6ec8dc78644b36c1",
   "metadata": {},
   "source": [
    "### Accessing encoding"
   ]
  },
  {
   "cell_type": "markdown",
   "id": "12ae7a7e475d091f",
   "metadata": {},
   "source": [
    "The library of available tokens depends on the config used to generate the expressions, it can be accessed via the `library` attribute of the expressions object."
   ]
  },
  {
   "cell_type": "code",
   "id": "663fdea749f474b4",
   "metadata": {
    "ExecuteTime": {
     "end_time": "2025-07-30T07:36:24.615825Z",
     "start_time": "2025-07-30T07:36:24.611640Z"
    }
   },
   "source": [
    "lib = expressions.library\n",
    "print(lib)"
   ],
   "outputs": [
    {
     "name": "stdout",
     "output_type": "stream",
     "text": [
      "[add sub mul div pow log exp cos 1.0 c0 c1 c2 x1 x2 x3 x4 x5 x6 y dummy -]\n"
     ]
    }
   ],
   "execution_count": 91
  },
  {
   "cell_type": "code",
   "id": "16342867fba5ef4e",
   "metadata": {
    "ExecuteTime": {
     "end_time": "2025-07-30T07:36:24.658227Z",
     "start_time": "2025-07-30T07:36:24.652690Z"
    }
   },
   "source": [
    "# Encoding : dict of token names to indices\n",
    "lib.lib_name_to_idx"
   ],
   "outputs": [
    {
     "data": {
      "text/plain": [
       "{np.str_('add'): 0,\n",
       " np.str_('sub'): 1,\n",
       " np.str_('mul'): 2,\n",
       " np.str_('div'): 3,\n",
       " np.str_('pow'): 4,\n",
       " np.str_('log'): 5,\n",
       " np.str_('exp'): 6,\n",
       " np.str_('cos'): 7,\n",
       " np.str_('1.0'): 8,\n",
       " np.str_('c0'): 9,\n",
       " np.str_('c1'): 10,\n",
       " np.str_('c2'): 11,\n",
       " np.str_('x1'): 12,\n",
       " np.str_('x2'): 13,\n",
       " np.str_('x3'): 14,\n",
       " np.str_('x4'): 15,\n",
       " np.str_('x5'): 16,\n",
       " np.str_('x6'): 17,\n",
       " np.str_('y'): 18,\n",
       " np.str_('dummy'): 19,\n",
       " np.str_('-'): 20}"
      ]
     },
     "execution_count": 92,
     "metadata": {},
     "output_type": "execute_result"
    }
   ],
   "execution_count": 92
  },
  {
   "cell_type": "code",
   "id": "70d3ca19d3471c9c",
   "metadata": {
    "ExecuteTime": {
     "end_time": "2025-07-30T07:36:24.697120Z",
     "start_time": "2025-07-30T07:36:24.691314Z"
    }
   },
   "source": [
    "print(\"Number of choosable tokens in the library:\", lib.n_choices)\n",
    "print(\"Token idx used for padding after expression:\", lib.invalid_idx)"
   ],
   "outputs": [
    {
     "name": "stdout",
     "output_type": "stream",
     "text": [
      "Number of choosable tokens in the library: 18\n",
      "Token idx used for padding after expression: 20\n"
     ]
    }
   ],
   "execution_count": 93
  },
  {
   "cell_type": "markdown",
   "id": "480d8d1dd34819c",
   "metadata": {},
   "source": [
    "Tokens are stored in the `tokens` attribute of the expressions object.\n",
    "Let's access all tokens of all expressions in the batch."
   ]
  },
  {
   "metadata": {
    "ExecuteTime": {
     "end_time": "2025-07-30T07:36:24.739557Z",
     "start_time": "2025-07-30T07:36:24.731396Z"
    }
   },
   "cell_type": "code",
   "source": [
    "print(\"Encoded tokens:\")\n",
    "print(expressions.tokens.idx)                    # (batch_size, max_length)\n",
    "print(\"Tokens as str:\")\n",
    "expressions.idx_as_names(expressions.tokens.idx) # (batch_size, max_length)"
   ],
   "id": "2f9810e32c64a91e",
   "outputs": [
    {
     "name": "stdout",
     "output_type": "stream",
     "text": [
      "Encoded tokens:\n",
      "[[ 1  2 10 ... 20 20 20]\n",
      " [ 0  1 14 ... 20 20 20]\n",
      " [ 1  8  5 ... 20 20 20]\n",
      " ...\n",
      " [ 1 17  2 ... 20 20 20]\n",
      " [ 3  0 15 ... 20 20 20]\n",
      " [ 6  0 11 ... 20 20 20]]\n",
      "Tokens as str:\n"
     ]
    },
    {
     "data": {
      "text/plain": [
       "array([['sub', 'mul', 'c1', ..., '-', '-', '-'],\n",
       "       ['add', 'sub', 'x3', ..., '-', '-', '-'],\n",
       "       ['sub', '1.0', 'log', ..., '-', '-', '-'],\n",
       "       ...,\n",
       "       ['sub', 'x6', 'mul', ..., '-', '-', '-'],\n",
       "       ['div', 'add', 'x4', ..., '-', '-', '-'],\n",
       "       ['exp', 'add', 'c2', ..., '-', '-', '-']],\n",
       "      shape=(1000, 30), dtype='<U5')"
      ]
     },
     "execution_count": 94,
     "metadata": {},
     "output_type": "execute_result"
    }
   ],
   "execution_count": 94
  },
  {
   "metadata": {
    "ExecuteTime": {
     "end_time": "2025-07-30T07:36:24.809053Z",
     "start_time": "2025-07-30T07:36:24.793675Z"
    }
   },
   "cell_type": "code",
   "source": [
    "print(\"Ie. %s encodes :\"%(expressions.tokens.idx[21]))\n",
    "print(expressions.get_infix_pretty(21))"
   ],
   "id": "12761ce20c5e5583",
   "outputs": [
    {
     "name": "stdout",
     "output_type": "stream",
     "text": [
      "Ie. [ 2  5  7  2 13 11  7 17 20 20 20 20 20 20 20 20 20 20 20 20 20 20 20 20\n",
      " 20 20 20 20 20 20] encodes :\n",
      "log(cos(c₂⋅x₂))⋅cos(x₆)\n"
     ]
    }
   ],
   "execution_count": 95
  },
  {
   "metadata": {},
   "cell_type": "markdown",
   "source": "### Expressions are differentiable",
   "id": "79a92a263881b707"
  },
  {
   "metadata": {
    "ExecuteTime": {
     "end_time": "2025-07-30T07:36:24.875572Z",
     "start_time": "2025-07-30T07:36:24.869611Z"
    }
   },
   "cell_type": "code",
   "source": "print(expr.get_infix_pretty())",
   "id": "d358d7a8f3b332f7",
   "outputs": [
    {
     "name": "stdout",
     "output_type": "stream",
     "text": [
      "log(cos(c₂⋅x₂))⋅cos(x₆)\n"
     ]
    }
   ],
   "execution_count": 96
  },
  {
   "metadata": {},
   "cell_type": "markdown",
   "source": "`physo` expressions are composed of PyTorch operators and are thus auto-differentiable, meaning that you can compute gradients with respect to the input variables or free constants.",
   "id": "4c6b8b26d9227002"
  },
  {
   "metadata": {
    "ExecuteTime": {
     "end_time": "2025-07-30T07:36:24.941088Z",
     "start_time": "2025-07-30T07:36:24.936951Z"
    }
   },
   "cell_type": "code",
   "source": [
    "# Making synthetic data\n",
    "n_samples = 1000\n",
    "X = torch.tensor(np.random.uniform(-1, 1, size=(6, n_samples))).to(device)\n",
    "X.requires_grad = True\n",
    "# Evaluating the expression\n",
    "y = expr(X)\n",
    "# Evaluating the expression with respect to the input variables\n",
    "dy = torch.autograd.grad(\n",
    "    outputs=y,\n",
    "    inputs=X,\n",
    "    grad_outputs=torch.ones_like(y),\n",
    "    create_graph=True,\n",
    "    retain_graph=True\n",
    ")[0]\n",
    "dy_dx2 = dy[1]  # Gradient with respect to x2"
   ],
   "id": "ef228caa3bbd526b",
   "outputs": [],
   "execution_count": 97
  },
  {
   "metadata": {
    "ExecuteTime": {
     "end_time": "2025-07-30T07:36:25.098436Z",
     "start_time": "2025-07-30T07:36:24.976027Z"
    }
   },
   "cell_type": "code",
   "source": [
    "fig, ax = plt.subplots(1, 1, figsize=(10, 5))\n",
    "ax.plot(X[1].detach().cpu().numpy(), y.detach().cpu().numpy(), 'k.', markersize=2, label='Data')\n",
    "ax.plot(X[1].detach().cpu().numpy(), dy_dx2.detach().cpu().numpy(), 'r.', markersize=2, label='Gradient w.r.t x2')\n",
    "ax.set_xlabel('x2')\n",
    "ax.set_ylabel('y and dy/dx2')\n",
    "ax.legend()\n"
   ],
   "id": "208c3ee8147597db",
   "outputs": [
    {
     "data": {
      "text/plain": [
       "<matplotlib.legend.Legend at 0x17aa4b230>"
      ]
     },
     "execution_count": 98,
     "metadata": {},
     "output_type": "execute_result"
    },
    {
     "data": {
      "text/plain": [
       "<Figure size 1000x500 with 1 Axes>"
      ],
      "image/png": "[encoded data removed]"
     },
     "metadata": {},
     "output_type": "display_data"
    }
   ],
   "execution_count": 98
  },
  {
   "metadata": {
    "ExecuteTime": {
     "end_time": "2025-07-30T07:36:25.123194Z",
     "start_time": "2025-07-30T07:36:25.120368Z"
    }
   },
   "cell_type": "code",
   "source": "",
   "id": "1d4c361e68559e13",
   "outputs": [],
   "execution_count": null
  },
  {
   "metadata": {},
   "cell_type": "markdown",
   "source": "### Accessing relational tree structure",
   "id": "e5e3190764665f84"
  },
  {
   "metadata": {},
   "cell_type": "markdown",
   "source": "`physo` expressions are stored as a tree structure, which can be navigated to access the parent, children, sibling nodes of any token and even list their ancestors in a vectorized way across all expressions in the batch.",
   "id": "7723c9482a772099"
  },
  {
   "metadata": {
    "ExecuteTime": {
     "end_time": "2025-07-30T07:36:25.209534Z",
     "start_time": "2025-07-30T07:36:25.154961Z"
    }
   },
   "cell_type": "code",
   "source": [
    "print(\"Expression no 21:\")\n",
    "print(expressions.get_infix_pretty(21))\n",
    "print(\"Expression no 42:\")\n",
    "print(expressions.get_infix_pretty(42))"
   ],
   "id": "e4fd2aebe8dc8d0c",
   "outputs": [
    {
     "name": "stdout",
     "output_type": "stream",
     "text": [
      "Expression no 21:\n",
      "log(cos(c₂⋅x₂))⋅cos(x₆)\n",
      "Expression no 42:\n",
      "      c₀⋅c₁          \n",
      "      ─────          \n",
      "       x₅            \n",
      "x₆ - ℯ      + cos(x₂)\n"
     ]
    }
   ],
   "execution_count": 99
  },
  {
   "metadata": {
    "ExecuteTime": {
     "end_time": "2025-07-30T07:36:25.241713Z",
     "start_time": "2025-07-30T07:36:25.235976Z"
    }
   },
   "cell_type": "code",
   "source": [
    "print(\"Expression no 21:\")\n",
    "print(expressions[21])\n",
    "print(\"Expression no 42:\")\n",
    "print(expressions[42])"
   ],
   "id": "fe935d1cb5042b87",
   "outputs": [
    {
     "name": "stdout",
     "output_type": "stream",
     "text": [
      "Expression no 21:\n",
      "[mul log cos mul x2 c2 cos x6]\n",
      "Expression no 42:\n",
      "[sub add cos x2 x6 exp mul c0 div c1 x5]\n"
     ]
    }
   ],
   "execution_count": 100
  },
  {
   "metadata": {},
   "cell_type": "markdown",
   "source": [
    "Getting parents of :\n",
    "- Token no 1 of expression no 21\n",
    "- Token no 5 of expression no 42"
   ],
   "id": "6a150bfd664947ab"
  },
  {
   "metadata": {
    "ExecuteTime": {
     "end_time": "2025-07-30T07:36:25.305916Z",
     "start_time": "2025-07-30T07:36:25.295392Z"
    }
   },
   "cell_type": "code",
   "source": [
    "# Getting coordinates\n",
    "coords =[[21,42],\n",
    "         [1, 5]]\n",
    "coords_parent = expressions.get_parent(coords)\n",
    "# Getting parents tokens\n",
    "parent = expressions.get_token(coords_parent)\n",
    "child  = expressions.get_token(coords)\n",
    "\n",
    "\n",
    "print(\"Parent of token no 1 of expression no 21: %s is %s\" % (child[0], parent[0]))\n",
    "print(\"Parent of token no 5 of expression no 42: %s is %s\" % (child[1], parent[1]))"
   ],
   "id": "f8578defa5fc56ae",
   "outputs": [
    {
     "name": "stdout",
     "output_type": "stream",
     "text": [
      "Parent of token no 1 of expression no 21: log is mul\n",
      "Parent of token no 5 of expression no 42: exp is sub\n"
     ]
    }
   ],
   "execution_count": 101
  },
  {
   "metadata": {},
   "cell_type": "markdown",
   "source": "In a similar manner, you can get the children of a token via `get_children`, the siblings via `get_siblings` and the ancestors via `get_ancestors`.",
   "id": "1bde948cfef2c71"
  },
  {
   "metadata": {},
   "cell_type": "markdown",
   "source": "A tree representation can also be drawn via `show_tree`. However, it requires the installation of additional dependencies through [devreq1.txt](https://github.com/WassimTenachi/PhySO/blob/main/devreq1.txt) and [devreq2.txt](https://github.com/WassimTenachi/PhySO/blob/main/devreq2.txt).\n",
   "id": "dddf6906c18e56b9"
  },
  {
   "metadata": {
    "ExecuteTime": {
     "end_time": "2025-07-30T07:36:25.396719Z",
     "start_time": "2025-07-30T07:36:25.336071Z"
    }
   },
   "cell_type": "code",
   "source": [
    "# Showing tree of expression no 21 and 42\n",
    "try:\n",
    "    expressions.show_tree(21, via_tex = True, figsize = (10,10), dpi = 300)\n",
    "    expressions.show_tree(42, via_tex = True, figsize = (10,10), dpi = 300)\n",
    "except:\n",
    "    warnings.warn(\"Tree visualization requires additional dependencies. Please install them via devreq1.txt and devreq2.txt. Tree visualization is optional and not required for the use of physo.\")\n"
   ],
   "id": "5024b078bfdb4eaf",
   "outputs": [
    {
     "name": "stdout",
     "output_type": "stream",
     "text": [
      "Unable to import pdflatex (which is needed to make tree). Please install it via 'pip install pdflatex == 0.1.3'.\n"
     ]
    },
    {
     "name": "stderr",
     "output_type": "stream",
     "text": [
      "/var/folders/_0/hgcsx0091_b2v_kzxs1_yqyh0000gp/T/ipykernel_52209/2943094205.py:6: UserWarning: Tree visualization requires additional dependencies. Please install them via devreq1.txt and devreq2.txt. Tree visualization is optional and not required for the use of physo.\n",
      "  warnings.warn(\"Tree visualization requires additional dependencies. Please install them via devreq1.txt and devreq2.txt. Tree visualization is optional and not required for the use of physo.\")\n"
     ]
    },
    {
     "data": {
      "text/plain": [
       "<Figure size 1000x1000 with 1 Axes>"
      ],
      "image/png": "[encoded data removed]"
     },
     "metadata": {},
     "output_type": "display_data"
    }
   ],
   "execution_count": 102
  },
  {
   "metadata": {},
   "cell_type": "markdown",
   "source": "### Accessing physical units infomation\n",
   "id": "82a59830f6bbdb7"
  },
  {
   "metadata": {},
   "cell_type": "markdown",
   "source": "Similarly, the physical units of a token can be accessed via the `tokens.phy_units` attribute of the expressions object.",
   "id": "a4f7bd77029aae74"
  },
  {
   "metadata": {
    "ExecuteTime": {
     "end_time": "2025-07-30T07:36:25.433807Z",
     "start_time": "2025-07-30T07:36:25.425753Z"
    }
   },
   "cell_type": "code",
   "source": [
    "# Are expressions physically correct?\n",
    "expressions_with_da.is_physical"
   ],
   "id": "82155f82aef06eb6",
   "outputs": [
    {
     "data": {
      "text/plain": [
       "array([ True, False, False, False, False, False,  True, False, False,\n",
       "       False, False, False,  True, False, False,  True, False,  True,\n",
       "       False,  True, False,  True,  True, False, False, False,  True,\n",
       "       False,  True, False, False, False, False,  True,  True, False,\n",
       "        True, False, False, False, False,  True, False, False, False,\n",
       "        True,  True, False, False, False, False, False, False, False,\n",
       "       False,  True, False, False, False, False,  True, False, False,\n",
       "       False,  True, False, False, False, False, False,  True, False,\n",
       "       False, False,  True,  True,  True, False, False, False,  True,\n",
       "       False,  True, False,  True,  True, False, False, False,  True,\n",
       "        True, False, False,  True, False,  True, False,  True,  True,\n",
       "       False, False, False, False, False,  True, False,  True, False,\n",
       "       False, False,  True,  True,  True, False,  True, False, False,\n",
       "        True, False, False,  True, False,  True, False, False, False,\n",
       "       False,  True, False, False, False, False,  True, False,  True,\n",
       "        True,  True,  True, False,  True, False, False, False, False,\n",
       "        True, False, False,  True, False, False, False, False, False,\n",
       "       False, False, False,  True,  True,  True, False, False,  True,\n",
       "        True, False, False,  True, False,  True,  True, False, False,\n",
       "        True,  True, False,  True, False,  True, False,  True, False,\n",
       "       False, False, False, False, False, False,  True, False, False,\n",
       "       False, False, False, False, False,  True,  True,  True, False,\n",
       "       False,  True, False, False,  True,  True,  True, False, False,\n",
       "       False, False,  True, False, False, False, False, False, False,\n",
       "        True,  True, False,  True, False, False,  True, False,  True,\n",
       "       False, False, False,  True, False,  True,  True, False, False,\n",
       "       False,  True,  True, False, False, False, False, False,  True,\n",
       "        True, False,  True, False,  True,  True,  True,  True,  True,\n",
       "       False, False, False, False, False, False,  True, False,  True,\n",
       "        True, False, False, False, False,  True, False,  True,  True,\n",
       "       False, False, False, False, False, False, False,  True,  True,\n",
       "        True, False,  True,  True, False,  True, False, False, False,\n",
       "       False, False, False, False,  True, False, False,  True,  True,\n",
       "       False,  True,  True, False, False, False, False, False, False,\n",
       "       False,  True,  True, False,  True, False,  True, False, False,\n",
       "        True,  True,  True,  True, False,  True, False, False, False,\n",
       "       False, False, False, False, False,  True,  True, False, False,\n",
       "       False, False,  True,  True,  True, False, False, False,  True,\n",
       "       False, False,  True,  True,  True,  True, False, False, False,\n",
       "       False, False,  True,  True, False,  True,  True, False, False,\n",
       "       False, False,  True,  True, False, False, False, False, False,\n",
       "       False, False,  True,  True,  True,  True, False, False,  True,\n",
       "       False,  True,  True, False,  True, False, False, False,  True,\n",
       "        True, False,  True,  True, False, False, False, False, False,\n",
       "        True, False, False,  True, False, False, False,  True, False,\n",
       "        True,  True, False, False, False, False, False,  True, False,\n",
       "       False, False, False, False, False,  True,  True, False, False,\n",
       "       False,  True, False, False, False,  True, False,  True, False,\n",
       "       False,  True, False, False, False, False, False,  True,  True,\n",
       "        True, False, False, False, False, False,  True, False, False,\n",
       "       False,  True, False, False, False, False, False,  True, False,\n",
       "       False, False, False,  True, False, False,  True,  True, False,\n",
       "       False,  True, False,  True, False, False, False, False, False,\n",
       "        True,  True, False,  True, False, False, False, False, False,\n",
       "       False, False, False, False,  True, False, False,  True, False,\n",
       "        True, False, False, False, False, False, False, False, False,\n",
       "        True, False,  True, False, False, False, False,  True, False,\n",
       "        True,  True, False, False,  True,  True, False,  True, False,\n",
       "        True,  True, False, False,  True,  True, False,  True,  True,\n",
       "       False, False,  True, False, False,  True, False,  True,  True,\n",
       "       False,  True, False, False,  True,  True, False,  True,  True,\n",
       "       False,  True,  True, False, False, False, False, False, False,\n",
       "       False, False, False, False, False, False,  True, False,  True,\n",
       "       False, False, False, False, False,  True, False, False, False,\n",
       "       False, False, False, False,  True, False, False, False, False,\n",
       "        True,  True, False, False, False, False,  True, False,  True,\n",
       "       False, False,  True, False,  True, False,  True, False, False,\n",
       "        True, False, False,  True, False, False, False, False, False,\n",
       "       False,  True,  True, False, False, False, False, False,  True,\n",
       "       False, False, False, False, False,  True, False,  True, False,\n",
       "       False, False, False,  True, False,  True, False, False, False,\n",
       "       False,  True, False,  True, False, False, False, False, False,\n",
       "        True, False, False, False,  True, False,  True, False,  True,\n",
       "       False, False, False, False,  True, False, False, False, False,\n",
       "       False, False, False,  True, False,  True, False,  True, False,\n",
       "        True,  True,  True,  True, False, False, False, False, False,\n",
       "       False,  True,  True, False, False, False, False,  True, False,\n",
       "        True, False,  True,  True,  True, False, False,  True,  True,\n",
       "        True, False,  True,  True, False, False,  True,  True,  True,\n",
       "       False, False,  True, False, False,  True, False,  True, False,\n",
       "       False,  True, False, False, False, False,  True,  True,  True,\n",
       "       False, False, False, False,  True,  True,  True, False,  True,\n",
       "       False,  True, False, False,  True, False,  True,  True, False,\n",
       "       False,  True, False,  True, False, False, False, False, False,\n",
       "       False, False,  True, False,  True, False, False, False, False,\n",
       "        True, False, False,  True,  True,  True,  True,  True,  True,\n",
       "       False, False,  True, False,  True,  True, False,  True,  True,\n",
       "       False,  True, False, False, False, False, False,  True, False,\n",
       "       False, False, False, False, False,  True, False, False,  True,\n",
       "       False,  True, False,  True,  True,  True,  True,  True, False,\n",
       "        True, False, False, False, False, False,  True, False, False,\n",
       "        True, False,  True, False,  True, False, False, False, False,\n",
       "       False,  True, False, False, False,  True, False,  True, False,\n",
       "       False, False, False, False, False, False,  True, False, False,\n",
       "        True, False,  True, False, False,  True, False,  True,  True,\n",
       "        True, False,  True,  True, False, False, False, False, False,\n",
       "       False,  True,  True,  True, False, False,  True, False, False,\n",
       "        True, False,  True, False, False, False,  True, False, False,\n",
       "       False, False,  True, False, False, False, False, False, False,\n",
       "        True,  True,  True, False,  True, False, False,  True, False,\n",
       "        True, False, False, False,  True, False, False, False, False,\n",
       "       False, False,  True,  True, False, False,  True, False,  True,\n",
       "        True,  True, False, False, False,  True, False,  True, False,\n",
       "       False, False, False,  True,  True, False, False,  True, False,\n",
       "       False,  True,  True,  True,  True, False,  True,  True, False,\n",
       "        True, False, False,  True, False, False, False, False, False,\n",
       "        True, False, False, False,  True, False, False, False,  True,\n",
       "       False,  True, False, False, False, False,  True, False, False,\n",
       "       False,  True, False, False,  True, False, False, False, False,\n",
       "       False, False, False,  True, False, False, False, False,  True,\n",
       "       False, False,  True,  True,  True,  True, False, False,  True,\n",
       "       False])"
      ]
     },
     "execution_count": 103,
     "metadata": {},
     "output_type": "execute_result"
    }
   ],
   "execution_count": 103
  },
  {
   "metadata": {
    "ExecuteTime": {
     "end_time": "2025-07-30T07:36:25.467110Z",
     "start_time": "2025-07-30T07:36:25.463830Z"
    }
   },
   "cell_type": "code",
   "source": "",
   "id": "797f11f91e9a2e9",
   "outputs": [],
   "execution_count": null
  },
  {
   "metadata": {
    "ExecuteTime": {
     "end_time": "2025-07-30T07:36:25.505273Z",
     "start_time": "2025-07-30T07:36:25.496420Z"
    }
   },
   "cell_type": "code",
   "source": [
    "print(\"Expression no 0:\")\n",
    "print(expressions_with_da[0].get_infix_pretty())"
   ],
   "id": "e69a02738a6a0844",
   "outputs": [
    {
     "name": "stdout",
     "output_type": "stream",
     "text": [
      "Expression no 0:\n",
      "   ⎛       ⎛                           l      ⎞            ⎞\n",
      "   ⎜       ⎜             f + f - ─────────────⎟            ⎟\n",
      "   ⎜       ⎜                       L   L      ⎟            ⎟\n",
      "   ⎜       ⎜                     - ─ + ─ - l⋅t⎟            ⎟\n",
      "   ⎜       ⎜                       f   f      ⎟            ⎟\n",
      "cos⎜f⋅t⋅log⎜-1.0 - 1.0 + ─────────────────────⎟ + 1.0 + 1.0⎟\n",
      "   ⎝       ⎝                     1.0⋅f        ⎠            ⎠\n"
     ]
    }
   ],
   "execution_count": 104
  },
  {
   "metadata": {
    "ExecuteTime": {
     "end_time": "2025-07-30T07:36:25.542164Z",
     "start_time": "2025-07-30T07:36:25.536922Z"
    }
   },
   "cell_type": "code",
   "source": [
    "print(\"Expression no 0:\")\n",
    "print(expressions_with_da[0])"
   ],
   "id": "12711a83736219f3",
   "outputs": [
    {
     "name": "stdout",
     "output_type": "stream",
     "text": [
      "Expression no 0:\n",
      "[cos add add mul mul t log sub sub div div add sub f div l sub sub div L f\n",
      " div L f mul l t f f 1.0 1.0 1.0 f 1.0 1.0]\n"
     ]
    }
   ],
   "execution_count": 105
  },
  {
   "metadata": {
    "ExecuteTime": {
     "end_time": "2025-07-30T07:36:25.577228Z",
     "start_time": "2025-07-30T07:36:25.571783Z"
    }
   },
   "cell_type": "code",
   "source": [
    "print(\"Physical units of token no 18 of expression no 0:\")\n",
    "print(expressions_with_da.tokens.phy_units[0,18,])"
   ],
   "id": "72a647af681187a1",
   "outputs": [
    {
     "name": "stdout",
     "output_type": "stream",
     "text": [
      "Physical units of token no 18 of expression no 0:\n",
      "[1. 1. 0. 0. 0. 0. 0.]\n"
     ]
    }
   ],
   "execution_count": 106
  },
  {
   "metadata": {},
   "cell_type": "markdown",
   "source": [
    "A tree representation can also be drawn via `show_tree`. However, it requires the installation of additional dependencies through [devreq1.txt](https://github.com/WassimTenachi/PhySO/blob/main/devreq1.txt) and [devreq2.txt](https://github.com/WassimTenachi/PhySO/blob/main/devreq2.txt).\n",
    "The tree also shows the physical units of each token in the expression."
   ],
   "id": "65ac9a1e7cdaa765"
  },
  {
   "metadata": {
    "ExecuteTime": {
     "end_time": "2025-07-30T07:36:25.814041Z",
     "start_time": "2025-07-30T07:36:25.610634Z"
    }
   },
   "cell_type": "code",
   "source": [
    "# Showing tree of expression no 0\n",
    "try:\n",
    "    expressions_with_da.show_tree(0, via_tex = True, figsize = (30,30), dpi = 300)\n",
    "except:\n",
    "    warnings.warn(\"Tree visualization requires additional dependencies. Please install them via devreq1.txt and devreq2.txt. Tree visualization is optional and not required for the use of physo.\")\n"
   ],
   "id": "e61314f1c46148ef",
   "outputs": [
    {
     "name": "stdout",
     "output_type": "stream",
     "text": [
      "Unable to import pdflatex (which is needed to make tree). Please install it via 'pip install pdflatex == 0.1.3'.\n"
     ]
    },
    {
     "name": "stderr",
     "output_type": "stream",
     "text": [
      "/var/folders/_0/hgcsx0091_b2v_kzxs1_yqyh0000gp/T/ipykernel_52209/185734173.py:5: UserWarning: Tree visualization requires additional dependencies. Please install them via devreq1.txt and devreq2.txt. Tree visualization is optional and not required for the use of physo.\n",
      "  warnings.warn(\"Tree visualization requires additional dependencies. Please install them via devreq1.txt and devreq2.txt. Tree visualization is optional and not required for the use of physo.\")\n"
     ]
    },
    {
     "data": {
      "text/plain": [
       "<Figure size 3000x3000 with 1 Axes>"
      ],
      "image/png": "[encoded data removed]"
     },
     "metadata": {},
     "output_type": "display_data"
    }
   ],
   "execution_count": 107
  }
 ],
 "metadata": {
  "kernelspec": {
   "display_name": "Python 3 (ipykernel)",
   "language": "python",
   "name": "python3"
  },
  "language_info": {
   "codemirror_mode": {
    "name": "ipython",
    "version": 3
   },
   "file_extension": ".py",
   "mimetype": "text/x-python",
   "name": "python",
   "nbconvert_exporter": "python",
   "pygments_lexer": "ipython3",
   "version": "3.12.11"
  }
 },
 "nbformat": 4,
 "nbformat_minor": 5
}

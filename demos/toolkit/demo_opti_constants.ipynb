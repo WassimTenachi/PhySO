{
 "cells": [
  {
   "metadata": {},
   "cell_type": "markdown",
   "source": "# $\\Phi$-SO demo : Optimizing constants with auto-differentiation & LBFGS",
   "id": "40a1088a54d4ef4"
  },
  {
   "metadata": {},
   "cell_type": "markdown",
   "source": "This notebook is for anyone who simply wants to use `physo`’s free constant optimization scheme - without necessarily diving into symbolic optimization or machine learning. It contains a simple example of how to optimize constants in a function using PyTorch's auto-differentiation and LBFGS optimizer.",
   "id": "3cd4ddd03a6ee992"
  },
  {
   "metadata": {
    "ExecuteTime": {
     "end_time": "2025-08-13T20:28:09.455489Z",
     "start_time": "2025-08-13T20:28:09.441357Z"
    }
   },
   "cell_type": "code",
   "source": [
    "import matplotlib.pyplot as plt\n",
    "import numpy as np\n",
    "import torch"
   ],
   "id": "672405d580eb321a",
   "outputs": [],
   "execution_count": 50
  },
  {
   "metadata": {
    "ExecuteTime": {
     "end_time": "2025-08-13T20:28:09.508904Z",
     "start_time": "2025-08-13T20:28:09.505797Z"
    }
   },
   "cell_type": "code",
   "source": "import physo.physym.free_const as fc",
   "id": "3f2163f2db08a903",
   "outputs": [],
   "execution_count": 51
  },
  {
   "metadata": {},
   "cell_type": "markdown",
   "source": "Fixing seed",
   "id": "aadb7f5f31eb517c"
  },
  {
   "metadata": {
    "ExecuteTime": {
     "end_time": "2025-08-13T20:28:09.540359Z",
     "start_time": "2025-08-13T20:28:09.526590Z"
    }
   },
   "cell_type": "code",
   "source": [
    "seed = 0\n",
    "np.random.seed(seed)\n",
    "torch.manual_seed(seed)"
   ],
   "id": "548abdbc4ef91557",
   "outputs": [
    {
     "data": {
      "text/plain": [
       "<torch._C.Generator at 0x116eb3350>"
      ]
     },
     "execution_count": 52,
     "metadata": {},
     "output_type": "execute_result"
    }
   ],
   "execution_count": 52
  },
  {
   "metadata": {},
   "cell_type": "markdown",
   "source": "### Problem definition",
   "id": "3bb07684c0265128"
  },
  {
   "metadata": {},
   "cell_type": "markdown",
   "source": "Your function should be written as an auto-differentiable PyTorch function only using PyTorch operations so gradients can be computed automatically.",
   "id": "3099cc91743b4b08"
  },
  {
   "metadata": {
    "ExecuteTime": {
     "end_time": "2025-08-13T20:28:09.556988Z",
     "start_time": "2025-08-13T20:28:09.554366Z"
    }
   },
   "cell_type": "code",
   "source": [
    "def my_func(params, x):\n",
    "    a, b, c = params\n",
    "    return a * torch.sin(b * x + c)"
   ],
   "id": "73f2f259c5c9445e",
   "outputs": [],
   "execution_count": 53
  },
  {
   "metadata": {},
   "cell_type": "markdown",
   "source": "Making some synthetic target data",
   "id": "323fda8eb99b216e"
  },
  {
   "metadata": {
    "ExecuteTime": {
     "end_time": "2025-08-13T20:28:09.577560Z",
     "start_time": "2025-08-13T20:28:09.574179Z"
    }
   },
   "cell_type": "code",
   "source": [
    "x = torch.linspace(0, 2*np.pi, 50)\n",
    "y_target = 2.5 * torch.sin(1.2*x + 0.5)\n",
    "y_target = y_target + 0.2*torch.randn(y_target.shape)  # Adding some noise"
   ],
   "id": "bd88e212c961fcec",
   "outputs": [],
   "execution_count": 54
  },
  {
   "metadata": {
    "ExecuteTime": {
     "end_time": "2025-08-13T20:28:09.664428Z",
     "start_time": "2025-08-13T20:28:09.587836Z"
    }
   },
   "cell_type": "code",
   "source": [
    "fig, ax = plt.subplots(1,1, figsize=(8, 4))\n",
    "ax.plot(x, y_target, 'ko', label='Target data')"
   ],
   "id": "57e8a754d4e2bc76",
   "outputs": [
    {
     "data": {
      "text/plain": [
       "[<matplotlib.lines.Line2D at 0x1762bb230>]"
      ]
     },
     "execution_count": 55,
     "metadata": {},
     "output_type": "execute_result"
    },
    {
     "data": {
      "text/plain": [
       "<Figure size 800x400 with 1 Axes>"
      ],
      "image/png": "[encoded data removed]"
     },
     "metadata": {},
     "output_type": "display_data"
    }
   ],
   "execution_count": 55
  },
  {
   "metadata": {},
   "cell_type": "markdown",
   "source": "### Optimizer hyperparameters",
   "id": "b81a721fa82d140e"
  },
  {
   "metadata": {
    "ExecuteTime": {
     "end_time": "2025-08-13T20:28:09.684088Z",
     "start_time": "2025-08-13T20:28:09.681723Z"
    }
   },
   "cell_type": "code",
   "source": [
    "optimizer_args = {\n",
    "    'n_steps' : 30,    # Number of optimization steps\n",
    "    'tol'     : 1e-10, # Error tolerance, early stops if error < tol\n",
    "    'lbfgs_func_args' : {\n",
    "        'max_iter'       : 20,             # Maximal number of iterations per optimization step\n",
    "        'line_search_fn' : \"strong_wolfe\", # Maximal number of function evaluations per optimization step\n",
    "                         },\n",
    "}"
   ],
   "id": "5cb3905cba9630a7",
   "outputs": [],
   "execution_count": 56
  },
  {
   "metadata": {},
   "cell_type": "markdown",
   "source": "### Optimizing constants",
   "id": "4a3867cf1678d6b1"
  },
  {
   "metadata": {},
   "cell_type": "markdown",
   "source": "Defining a function to optimize that only depends on the free constants and the target data.",
   "id": "b1609819f6e4bf37"
  },
  {
   "metadata": {
    "ExecuteTime": {
     "end_time": "2025-08-13T20:28:09.692392Z",
     "start_time": "2025-08-13T20:28:09.690416Z"
    }
   },
   "cell_type": "code",
   "source": [
    "def my_loss(params):\n",
    "    # Compute the model output\n",
    "    y_pred = my_func(params, x)\n",
    "    # Compute the loss (mean squared error)\n",
    "    loss = torch.mean((y_pred - y_target)**2)\n",
    "    return loss"
   ],
   "id": "ddcd694a66441b9e",
   "outputs": [],
   "execution_count": 57
  },
  {
   "metadata": {},
   "cell_type": "markdown",
   "source": "Parameters to optimize should be defined as a PyTorch tensor with `requires_grad=True` or a list of such tensors.",
   "id": "8b2489bbb07bc306"
  },
  {
   "metadata": {
    "ExecuteTime": {
     "end_time": "2025-08-13T20:28:09.702548Z",
     "start_time": "2025-08-13T20:28:09.700355Z"
    }
   },
   "cell_type": "code",
   "source": [
    "# Initial guess for the parameters\n",
    "params = torch.tensor([1., 1., 1.], requires_grad=True)"
   ],
   "id": "bc97d4a86624fcf2",
   "outputs": [],
   "execution_count": 58
  },
  {
   "metadata": {},
   "cell_type": "markdown",
   "source": "### Optimization process",
   "id": "e75a3bb49d5b8c7c"
  },
  {
   "metadata": {
    "ExecuteTime": {
     "end_time": "2025-08-13T20:28:09.722918Z",
     "start_time": "2025-08-13T20:28:09.709996Z"
    }
   },
   "cell_type": "code",
   "source": [
    "history = fc.LBFGS_optimizer(params = params,\n",
    "                               f = my_loss,\n",
    "                               **optimizer_args,\n",
    "                   )"
   ],
   "id": "5d8dfe125858bc8f",
   "outputs": [],
   "execution_count": 59
  },
  {
   "metadata": {},
   "cell_type": "markdown",
   "source": "### Results",
   "id": "a7b94be82af4c1fa"
  },
  {
   "metadata": {},
   "cell_type": "markdown",
   "source": "Loss history",
   "id": "6e367430828602fc"
  },
  {
   "metadata": {
    "ExecuteTime": {
     "end_time": "2025-08-13T20:29:58.697672Z",
     "start_time": "2025-08-13T20:29:58.552343Z"
    }
   },
   "cell_type": "code",
   "source": [
    "fig, ax = plt.subplots(1,1, figsize=(8, 4))\n",
    "ax.plot(history, 'k-', label='Loss history')\n",
    "ax.set_yscale('log')\n",
    "ax.set_xlabel('Optimization step')\n",
    "ax.set_ylabel('Loss')\n",
    "ax.legend()\n"
   ],
   "id": "71bd181886cabbda",
   "outputs": [
    {
     "data": {
      "text/plain": [
       "<matplotlib.legend.Legend at 0x176466210>"
      ]
     },
     "execution_count": 64,
     "metadata": {},
     "output_type": "execute_result"
    },
    {
     "data": {
      "text/plain": [
       "<Figure size 800x400 with 1 Axes>"
      ],
      "image/png": "[encoded data removed]"
     },
     "metadata": {},
     "output_type": "display_data"
    }
   ],
   "execution_count": 64
  },
  {
   "metadata": {},
   "cell_type": "markdown",
   "source": "Parameters found",
   "id": "61c6a3343384f5e3"
  },
  {
   "metadata": {
    "ExecuteTime": {
     "end_time": "2025-08-13T20:30:55.271956Z",
     "start_time": "2025-08-13T20:30:55.263373Z"
    }
   },
   "cell_type": "code",
   "source": "print(params)",
   "id": "72999464870f8ab7",
   "outputs": [
    {
     "name": "stdout",
     "output_type": "stream",
     "text": [
      "tensor([2.4602, 1.2148, 0.4580], requires_grad=True)\n"
     ]
    }
   ],
   "execution_count": 65
  },
  {
   "metadata": {},
   "cell_type": "markdown",
   "source": "Fit results",
   "id": "2d9818ffbfbb67a4"
  },
  {
   "metadata": {
    "ExecuteTime": {
     "end_time": "2025-08-13T20:31:31.609261Z",
     "start_time": "2025-08-13T20:31:30.995835Z"
    }
   },
   "cell_type": "code",
   "source": [
    "fig, ax = plt.subplots(1,1, figsize=(8, 4))\n",
    "y_pred = my_func(params, x)\n",
    "ax.plot(x, y_target, 'ko', label='Target data')\n",
    "ax.plot(x, y_pred.detach(), 'r-', label='Fitted function')\n",
    "ax.set_xlabel('x')\n",
    "ax.set_ylabel('y')\n",
    "ax.legend()"
   ],
   "id": "147832d0f98966e9",
   "outputs": [
    {
     "data": {
      "text/plain": [
       "<matplotlib.legend.Legend at 0x176376cf0>"
      ]
     },
     "execution_count": 66,
     "metadata": {},
     "output_type": "execute_result"
    },
    {
     "data": {
      "text/plain": [
       "<Figure size 800x400 with 1 Axes>"
      ],
      "image/png": "[encoded data removed]"
     },
     "metadata": {},
     "output_type": "display_data"
    }
   ],
   "execution_count": 66
  },
  {
   "metadata": {},
   "cell_type": "code",
   "outputs": [],
   "execution_count": null,
   "source": "",
   "id": "2e5b3f0916486cad"
  }
 ],
 "metadata": {
  "kernelspec": {
   "display_name": "Python 3",
   "language": "python",
   "name": "python3"
  },
  "language_info": {
   "codemirror_mode": {
    "name": "ipython",
    "version": 2
   },
   "file_extension": ".py",
   "mimetype": "text/x-python",
   "name": "python",
   "nbconvert_exporter": "python",
   "pygments_lexer": "ipython2",
   "version": "2.7.6"
  }
 },
 "nbformat": 4,
 "nbformat_minor": 5
}

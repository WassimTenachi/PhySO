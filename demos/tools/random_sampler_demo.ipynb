{
 "cells": [
  {
   "cell_type": "markdown",
   "id": "1ad08bd998fdab72",
   "metadata": {},
   "source": [
    "# $\\Phi$-SO demo : Generating random expressions"
   ]
  },
  {
   "cell_type": "code",
   "id": "2c90ac9cf2978d4e",
   "metadata": {
    "ExecuteTime": {
     "end_time": "2025-07-28T07:46:09.018306Z",
     "start_time": "2025-07-28T07:46:09.013422Z"
    }
   },
   "source": [
    "import os\n",
    "import numpy as np\n",
    "import matplotlib.pyplot as plt\n",
    "import torch\n",
    "import warnings"
   ],
   "outputs": [],
   "execution_count": 53
  },
  {
   "cell_type": "code",
   "id": "84286dc13f1321a5",
   "metadata": {
    "ExecuteTime": {
     "end_time": "2025-07-28T07:46:09.054238Z",
     "start_time": "2025-07-28T07:46:09.050771Z"
    }
   },
   "source": [
    "# Internal code import\n",
    "import physo\n",
    "import physo.learn.random_sampler as rs"
   ],
   "outputs": [],
   "execution_count": 54
  },
  {
   "cell_type": "markdown",
   "id": "e2b0525e-ddae-4061-a833-f532c112ab0b",
   "metadata": {},
   "source": [
    "Seed"
   ]
  },
  {
   "cell_type": "code",
   "id": "94d6679b8f2d4ea7",
   "metadata": {
    "ExecuteTime": {
     "end_time": "2025-07-28T07:46:09.099285Z",
     "start_time": "2025-07-28T07:46:09.088757Z"
    }
   },
   "source": [
    "seed = 42\n",
    "np.random.seed(seed)\n",
    "torch.manual_seed(seed)"
   ],
   "outputs": [
    {
     "data": {
      "text/plain": [
       "<torch._C.Generator at 0x10f3edb70>"
      ]
     },
     "execution_count": 55,
     "metadata": {},
     "output_type": "execute_result"
    }
   ],
   "execution_count": 55
  },
  {
   "cell_type": "markdown",
   "id": "e103bec6bee18d7f",
   "metadata": {},
   "source": [
    "Device"
   ]
  },
  {
   "cell_type": "code",
   "id": "a97199d800f37547",
   "metadata": {
    "ExecuteTime": {
     "end_time": "2025-07-28T07:46:09.130895Z",
     "start_time": "2025-07-28T07:46:09.125551Z"
    }
   },
   "source": [
    "device = \"cuda\" if torch.cuda.is_available() else \"cpu\""
   ],
   "outputs": [],
   "execution_count": 56
  },
  {
   "cell_type": "markdown",
   "id": "56e9b2025ffc26d8",
   "metadata": {},
   "source": [
    "## Quick start\n",
    "Generating random expressions."
   ]
  },
  {
   "cell_type": "markdown",
   "id": "5f18dcdd55ddea61",
   "metadata": {},
   "source": [
    "Generating $1000$ random expressions having a length around 12 (with a gaussian soft prior having a scale of 5) with a max length of 30. Here we are using allowing up to input variables $x_1, x_2, x_3, x_4, x_5, x_6$ and one output variable $y$ along with a fixed constant $1$ and three free constants $c_0, c_1, c_2$."
   ]
  },
  {
   "cell_type": "code",
   "id": "bf05e5a2978d0580",
   "metadata": {
    "ExecuteTime": {
     "end_time": "2025-07-28T07:46:09.670683Z",
     "start_time": "2025-07-28T07:46:09.178616Z"
    }
   },
   "source": [
    "expressions = rs.sample_random_expressions(\n",
    "    # Batch size\n",
    "    batch_size=1000,\n",
    "    # Max length\n",
    "    max_length=30,\n",
    "    # Soft length prior\n",
    "    soft_length_loc = 12.,\n",
    "    soft_length_scale = 5.,\n",
    "    # X\n",
    "    X_names = [\"x1\", \"x2\", \"x3\", \"x4\", \"x5\", \"x6\",],\n",
    "    # y\n",
    "    y_name = \"y\",\n",
    "    # Fixed constants\n",
    "    fixed_consts       = [1.],\n",
    "    # Class free constants\n",
    "    class_free_consts_names = [\"c0\", \"c1\", \"c2\",],\n",
    "    # Operations to use\n",
    "    op_names = [\"add\", \"sub\", \"mul\", \"div\", \"pow\", \"log\", \"exp\", \"cos\"],\n",
    "    # Device to use\n",
    "    device=device,\n",
    "    # verbose\n",
    "    verbose=False\n",
    ")"
   ],
   "outputs": [],
   "execution_count": 57
  },
  {
   "cell_type": "markdown",
   "id": "30c1d355ab949c2c",
   "metadata": {},
   "source": [
    "### Stats"
   ]
  },
  {
   "cell_type": "code",
   "id": "35b7329d1d0081ef",
   "metadata": {
    "ExecuteTime": {
     "end_time": "2025-07-28T07:46:09.697384Z",
     "start_time": "2025-07-28T07:46:09.690374Z"
    }
   },
   "source": [
    "# Number of expressions generated\n",
    "print(\"Number of expressions generated:\", expressions.batch_size)\n",
    "# Expressions lengths\n",
    "print(\"Mean expression length:\", np.mean(expressions.n_lengths))\n",
    "# Number of expressions containing input variables\n",
    "contains_input_vars = expressions.tokens.is_input_var.sum(axis=1)>0\n",
    "print(\"Number of expressions containing input variables:\", np.sum(contains_input_vars))"
   ],
   "outputs": [
    {
     "name": "stdout",
     "output_type": "stream",
     "text": [
      "Number of expressions generated: 1000\n",
      "Mean expression length: 12.448\n",
      "Number of expressions containing input variables: 986\n"
     ]
    }
   ],
   "execution_count": 58
  },
  {
   "cell_type": "code",
   "id": "2d6c5bfbe817294c",
   "metadata": {
    "ExecuteTime": {
     "end_time": "2025-07-28T07:46:09.930189Z",
     "start_time": "2025-07-28T07:46:09.731852Z"
    }
   },
   "source": [
    "fig, ax = plt.subplots(1, 1, figsize=(10, 5))\n",
    "bins = 16\n",
    "ax.hist(expressions.n_lengths, bins=bins, histtype='step', color='k', linewidth=1.5, label='All Expressions')\n",
    "ax.hist(expressions.n_lengths[contains_input_vars], bins=bins, color='b', alpha=0.2, label='Contains Input Variables')\n",
    "ax.set_xlabel('Expression Length')\n",
    "ax.set_ylabel('Frequency')\n",
    "ax.legend()\n",
    "ax.set_title('Histogram of Expression Lengths')\n",
    "plt.show()\n"
   ],
   "outputs": [
    {
     "data": {
      "text/plain": [
       "<Figure size 1000x500 with 1 Axes>"
      ],
      "image/png": "[encoded data removed]"
     },
     "metadata": {},
     "output_type": "display_data"
    }
   ],
   "execution_count": 59
  },
  {
   "cell_type": "code",
   "id": "161d5081e4b95979",
   "metadata": {
    "ExecuteTime": {
     "end_time": "2025-07-28T07:46:09.954697Z",
     "start_time": "2025-07-28T07:46:09.950424Z"
    }
   },
   "source": [],
   "outputs": [],
   "execution_count": null
  },
  {
   "cell_type": "markdown",
   "id": "f03e3e3f43659ed0",
   "metadata": {},
   "source": [
    "## More about expression generation"
   ]
  },
  {
   "cell_type": "markdown",
   "id": "5b697e5cba0c0bda",
   "metadata": {},
   "source": [
    "### Using custom priors\n",
    "Generating random expressions using custom priors the expressions.\n",
    "See [priors doc](https://physo.readthedocs.io/en/latest/r_features.html#priors) for a detailed description of all available priors."
   ]
  },
  {
   "cell_type": "markdown",
   "id": "a37b78f236342a01",
   "metadata": {},
   "source": [
    "#### Priors to use"
   ]
  },
  {
   "cell_type": "code",
   "id": "20ea4b9ffdcff95a",
   "metadata": {
    "ExecuteTime": {
     "end_time": "2025-07-28T07:46:10.010388Z",
     "start_time": "2025-07-28T07:46:09.994790Z"
    }
   },
   "source": [
    "max_length = 40\n",
    "priors_config = [\n",
    "    # Uniform probability distribution over tokens by their arities.\n",
    "    (\"UniformArityPrior\", None),\n",
    "    # Hard length prior: all expressions must have a length between min_length and max_length.\n",
    "    (\"HardLengthPrior\"  , {\"min_length\": 4, \"max_length\": max_length, }),\n",
    "    # Soft length prior: all expressions have a gaussian prior with mean length and scale.\n",
    "    (\"SoftLengthPrior\"  , {\"length_loc\": 8, \"scale\": 5, }),\n",
    "    # Avoiding eg. log(exp(...)) or sqrt((...)^2)\n",
    "    (\"NoUselessInversePrior\"  , None),\n",
    "    # Enforcing dimensional analysis with escape for probs < float epsilon.\n",
    "    # (\"PhysicalUnitsPrior\", {\"prob_eps\": np.finfo(np.float32).eps}),\n",
    "    # Avoiding eg. exp(...+exp(...)) or log(log(...)) etc.\n",
    "    (\"NestedFunctions\", {\"functions\":[\"exp\",], \"max_nesting\" : 1}),\n",
    "    (\"NestedFunctions\", {\"functions\":[\"log\",], \"max_nesting\" : 1}),\n",
    "    # Avoiding eg. sin(...*cos(...)) or cos(sin(...)) etc.\n",
    "    (\"NestedTrigonometryPrior\", {\"max_nesting\" : 1}),\n",
    "    # Avoiding 1. appearing more than 3 times in an expression.\n",
    "    (\"OccurrencesPrior\", {\"targets\" : [\"1.0\",], \"max\" : [3,] }),\n",
    "]"
   ],
   "outputs": [],
   "execution_count": 60
  },
  {
   "cell_type": "markdown",
   "id": "6a4b964f84124604",
   "metadata": {},
   "source": [
    "#### Generating expressions"
   ]
  },
  {
   "cell_type": "code",
   "id": "7d0843b3c4ba16fd",
   "metadata": {
    "ExecuteTime": {
     "end_time": "2025-07-28T07:46:10.577647Z",
     "start_time": "2025-07-28T07:46:10.027633Z"
    }
   },
   "source": [
    "expressions = rs.sample_random_expressions(\n",
    "    # Batch size\n",
    "    batch_size=1000,\n",
    "    # Max length\n",
    "    max_length=max_length,\n",
    "    # Priors\n",
    "    priors_config = priors_config,\n",
    "    # X\n",
    "    X_names = [\"x1\", \"x2\", \"x3\", \"x4\", \"x5\", \"x6\",],\n",
    "    # y\n",
    "    y_name = \"y\",\n",
    "    # Fixed constants\n",
    "    fixed_consts       = [1.],\n",
    "    # Class free constants\n",
    "    class_free_consts_names = [\"c0\", \"c1\", \"c2\",],\n",
    "    # Operations to use\n",
    "    op_names = [\"mul\", \"add\", \"sub\", \"div\", \"inv\", \"n2\", \"sqrt\", \"neg\", \"exp\", \"log\", \"sin\", \"cos\"],\n",
    "    # Device to use\n",
    "    device=device,\n",
    "    # verbose\n",
    "    verbose=False\n",
    ")"
   ],
   "outputs": [],
   "execution_count": 61
  },
  {
   "cell_type": "markdown",
   "id": "3756b0716dd711ae",
   "metadata": {},
   "source": [
    "#### Stats"
   ]
  },
  {
   "cell_type": "code",
   "id": "3a8f06ef1a67200e",
   "metadata": {
    "ExecuteTime": {
     "end_time": "2025-07-28T07:46:10.597679Z",
     "start_time": "2025-07-28T07:46:10.594745Z"
    }
   },
   "source": [
    "# Number of expressions generated\n",
    "print(\"Number of expressions generated:\", expressions.batch_size)\n",
    "# Expressions lengths\n",
    "print(\"Mean expression length:\", np.mean(expressions.n_lengths))\n",
    "# Number of expressions containing input variables\n",
    "contains_input_vars = expressions.tokens.is_input_var.sum(axis=1)>0\n",
    "print(\"Number of expressions containing input variables:\", np.sum(contains_input_vars))"
   ],
   "outputs": [
    {
     "name": "stdout",
     "output_type": "stream",
     "text": [
      "Number of expressions generated: 1000\n",
      "Mean expression length: 11.989\n",
      "Number of expressions containing input variables: 948\n"
     ]
    }
   ],
   "execution_count": 62
  },
  {
   "cell_type": "code",
   "id": "a706f68b3e7e8058",
   "metadata": {
    "ExecuteTime": {
     "end_time": "2025-07-28T07:46:10.906843Z",
     "start_time": "2025-07-28T07:46:10.824989Z"
    }
   },
   "source": [
    "fig, ax = plt.subplots(1, 1, figsize=(10, 5))\n",
    "bins = 16\n",
    "ax.hist(expressions.n_lengths, bins=bins, histtype='step', color='k', linewidth=1.5, label='All Expressions')\n",
    "ax.hist(expressions.n_lengths[contains_input_vars], bins=bins, color='b', alpha=0.2, label='Contains Input Variables')\n",
    "ax.set_xlabel('Expression Length')\n",
    "ax.set_ylabel('Frequency')\n",
    "ax.legend()\n",
    "ax.set_title('Histogram of Expression Lengths')\n",
    "plt.show()\n"
   ],
   "outputs": [
    {
     "data": {
      "text/plain": [
       "<Figure size 1000x500 with 1 Axes>"
      ],
      "image/png": "[encoded data removed]"
     },
     "metadata": {},
     "output_type": "display_data"
    }
   ],
   "execution_count": 63
  },
  {
   "cell_type": "markdown",
   "id": "d9d13cb5a7c1dd7d",
   "metadata": {},
   "source": [
    "### Obeying Dimensional Analysis Rules\n",
    "Generating random expressions obeying dimensional analysis rules."
   ]
  },
  {
   "cell_type": "markdown",
   "id": "e88144157b8e1ebc",
   "metadata": {},
   "source": [
    "\n",
    "\n",
    "Given variables $l$ (length) and $t$ (time), we want to generate $1000$ expressions for the output variable $y$ (dimensionless) using fixed constants and free constants $L$ (length) and $f$ (frequency). The operations allowed are addition, subtraction, multiplication, division, power, logarithm, exponential, and cosine."
   ]
  },
  {
   "cell_type": "markdown",
   "id": "d23f3e09e148f64f",
   "metadata": {},
   "source": [
    "__DA side notes__:\n",
    "\n",
    "Here we are allowing the use of a fixed constant $1$ of dimension $L^{0}, T^{0}, M^{0}$ (ie dimensionless) and free constants $L$ (dimension $L^{1}, T^{0}, M^{0}$) and $f$ (dimension $L^{0}, T^{-1}, M^{0}$).\n",
    "\n",
    "It should be noted that here the units vector are of size 3 (eg: `[1, 0, 0]`) as in this example the variables have units dependent on length, time and mass only.\n",
    "However, units vectors can be of any size $\\leq 7$ as long as it is consistent across X, y and constants, allowing the user to express any units (dependent on length, time, mass, temperature, electric current, amount of light, or amount of matter).\n",
    "In addition, dimensional analysis can be performed regardless of the order in which units are given, allowing the user to use any convention ([length, mass, time] or [mass, time, length] etc.) as long as it is consistent across X,y and constants."
   ]
  },
  {
   "cell_type": "code",
   "id": "95e3abbde93a2572",
   "metadata": {
    "ExecuteTime": {
     "end_time": "2025-07-28T07:46:11.363777Z",
     "start_time": "2025-07-28T07:46:10.923329Z"
    }
   },
   "source": [
    "expressions = rs.sample_random_expressions(\n",
    "        # Input variables\n",
    "        X_names = [\"l\", \"t\"],\n",
    "        X_units = [[1,0,0], [0,1,0]],\n",
    "        # Output variable\n",
    "        y_name  = \"y\",\n",
    "        y_units = [0,0,0],\n",
    "        # Fixed constants\n",
    "        fixed_consts       = [1.],\n",
    "        fixed_consts_units = [[0,0,0]],\n",
    "        # Free constants\n",
    "        class_free_consts_names    = [\"L\", \"f\",],\n",
    "        class_free_consts_units    = [[1,0,0], [0,-1,0]],\n",
    "        class_free_consts_init_val = [1., 1.],\n",
    "        # Operations to use\n",
    "        op_names = [\"add\", \"sub\", \"mul\", \"div\", \"log\", \"exp\", \"cos\"],\n",
    "        # Device to use\n",
    "        device=device,\n",
    "        # verbose\n",
    "        verbose=False,\n",
    "                )"
   ],
   "outputs": [],
   "execution_count": 64
  },
  {
   "cell_type": "markdown",
   "id": "3d331218d33019aa",
   "metadata": {},
   "source": [
    "#### Stats"
   ]
  },
  {
   "cell_type": "code",
   "id": "789b4de32a95d5c8",
   "metadata": {
    "ExecuteTime": {
     "end_time": "2025-07-28T07:46:11.381976Z",
     "start_time": "2025-07-28T07:46:11.378352Z"
    }
   },
   "source": [
    "# Number of expressions generated\n",
    "print(\"Number of expressions generated:\", expressions.batch_size)\n",
    "# Expressions lengths\n",
    "print(\"Mean expression length:\", np.mean(expressions.n_lengths))\n",
    "# Number of physically correct expressions\n",
    "print(\"Number of physically correct expressions:\", np.sum(expressions.is_physical))\n",
    "# Number of expressions containing input variables\n",
    "contains_input_vars = expressions.tokens.is_input_var.sum(axis=1)>0\n",
    "print(\"Number of expressions containing input variables:\", np.sum(contains_input_vars))"
   ],
   "outputs": [
    {
     "name": "stdout",
     "output_type": "stream",
     "text": [
      "Number of expressions generated: 1000\n",
      "Mean expression length: 27.68\n",
      "Number of physically correct expressions: 354\n",
      "Number of expressions containing input variables: 938\n"
     ]
    }
   ],
   "execution_count": 65
  },
  {
   "cell_type": "code",
   "id": "27acbf169fad818f",
   "metadata": {
    "ExecuteTime": {
     "end_time": "2025-07-28T07:46:11.492293Z",
     "start_time": "2025-07-28T07:46:11.402437Z"
    }
   },
   "source": [
    "fig, ax = plt.subplots(1, 1, figsize=(10, 5))\n",
    "bins = 16\n",
    "ax.hist(expressions.n_lengths, bins=bins, histtype='step', color='k', linewidth=1.5, label='All Expressions')\n",
    "ax.hist(expressions.n_lengths[contains_input_vars], bins=bins, color='b', alpha=0.2, label='Contains Input Variables')\n",
    "ax.hist(expressions.n_lengths[expressions.is_physical], bins=bins, color='r', alpha=0.2, label='Physically Correct Expressions')\n",
    "ax.set_xlabel('Expression Length')\n",
    "ax.set_ylabel('Frequency')\n",
    "ax.legend()\n",
    "ax.set_title('Histogram of Expression Lengths')\n",
    "plt.show()\n"
   ],
   "outputs": [
    {
     "data": {
      "text/plain": [
       "<Figure size 1000x500 with 1 Axes>"
      ],
      "image/png": "[encoded data removed]"
     },
     "metadata": {},
     "output_type": "display_data"
    }
   ],
   "execution_count": 66
  },
  {
   "cell_type": "markdown",
   "id": "a2313feccf9c84a3",
   "metadata": {},
   "source": [
    "## Accessing expressions properties"
   ]
  },
  {
   "cell_type": "code",
   "id": "9ed0488ff4ec5803",
   "metadata": {
    "ExecuteTime": {
     "end_time": "2025-07-28T07:46:11.866936Z",
     "start_time": "2025-07-28T07:46:11.510398Z"
    }
   },
   "source": [
    "expressions = rs.sample_random_expressions(\n",
    "    # Batch size\n",
    "    batch_size=1000,\n",
    "    # Max length\n",
    "    max_length=30,\n",
    "    # Soft length prior\n",
    "    soft_length_loc = 12.,\n",
    "    soft_length_scale = 5.,\n",
    "    # X\n",
    "    X_names = [\"x1\", \"x2\", \"x3\", \"x4\", \"x5\", \"x6\",],\n",
    "    # y\n",
    "    y_name = \"y\",\n",
    "    # Fixed constants\n",
    "    fixed_consts       = [1.],\n",
    "    # Class free constants\n",
    "    class_free_consts_names = [\"c0\", \"c1\", \"c2\",],\n",
    "    # Operations to use\n",
    "    op_names = [\"add\", \"sub\", \"mul\", \"div\", \"pow\", \"log\", \"exp\", \"cos\"],\n",
    "    # Device to use\n",
    "    device=device,\n",
    "    # verbose\n",
    "    verbose=False\n",
    ")"
   ],
   "outputs": [],
   "execution_count": 67
  },
  {
   "cell_type": "markdown",
   "id": "953b940a4d3c1762",
   "metadata": {},
   "source": [
    "### Randomizing free parameter values"
   ]
  },
  {
   "cell_type": "code",
   "id": "4e508af0780c7f21",
   "metadata": {
    "ExecuteTime": {
     "end_time": "2025-07-28T07:46:11.886581Z",
     "start_time": "2025-07-28T07:46:11.882329Z"
    }
   },
   "source": [
    "# Free constants values are stored in :\n",
    "print(expressions.free_consts)\n",
    "# They can be sent to the device via:\n",
    "expressions.free_consts.to(device)\n",
    "# Values are stored in :\n",
    "print(expressions.free_consts.class_values)\n",
    "print(expressions.free_consts.class_values.shape)"
   ],
   "outputs": [
    {
     "name": "stdout",
     "output_type": "stream",
     "text": [
      "FreeConstantsTable\n",
      " -> Class consts (['c0' 'c1' 'c2']) : (1000, np.int64(3))\n",
      " -> Spe consts   ([]) : (1000, np.int64(0), 1)\n",
      "tensor([[1., 1., 1.],\n",
      "        [1., 1., 1.],\n",
      "        [1., 1., 1.],\n",
      "        ...,\n",
      "        [1., 1., 1.],\n",
      "        [1., 1., 1.],\n",
      "        [1., 1., 1.]], dtype=torch.float64)\n",
      "torch.Size([1000, 3])\n"
     ]
    }
   ],
   "execution_count": 68
  },
  {
   "cell_type": "markdown",
   "id": "bf2a08687b5cc9d4",
   "metadata": {},
   "source": [
    "Let's give random values to the free constants."
   ]
  },
  {
   "cell_type": "code",
   "id": "a2185e925c0a48f3",
   "metadata": {
    "ExecuteTime": {
     "end_time": "2025-07-28T07:46:11.906789Z",
     "start_time": "2025-07-28T07:46:11.903651Z"
    }
   },
   "source": [
    "expressions.free_consts.class_values = torch.rand((expressions.batch_size, expressions.free_consts.n_class_free_const), device=device)\n",
    "print(expressions.free_consts.class_values)\n",
    "print(expressions.free_consts.class_values.shape)"
   ],
   "outputs": [
    {
     "name": "stdout",
     "output_type": "stream",
     "text": [
      "tensor([[0.8823, 0.9150, 0.3829],\n",
      "        [0.9593, 0.3904, 0.6009],\n",
      "        [0.2566, 0.7936, 0.9408],\n",
      "        ...,\n",
      "        [0.4994, 0.5895, 0.3921],\n",
      "        [0.6545, 0.1140, 0.2252],\n",
      "        [0.8451, 0.0134, 0.5785]])\n",
      "torch.Size([1000, 3])\n"
     ]
    }
   ],
   "execution_count": 69
  },
  {
   "cell_type": "markdown",
   "id": "55fad999385ec514",
   "metadata": {},
   "source": [
    "### Inspecting an expression"
   ]
  },
  {
   "cell_type": "markdown",
   "id": "6d3f16e5ec87b380",
   "metadata": {},
   "source": [
    "Let's inspect expression number 21 of the batch."
   ]
  },
  {
   "cell_type": "code",
   "id": "8531e58a2cffb02",
   "metadata": {
    "ExecuteTime": {
     "end_time": "2025-07-28T07:46:11.930235Z",
     "start_time": "2025-07-28T07:46:11.927710Z"
    }
   },
   "source": "expr = expressions.get_prog(21)",
   "outputs": [],
   "execution_count": 70
  },
  {
   "cell_type": "markdown",
   "id": "edd09e4f83320c0",
   "metadata": {},
   "source": [
    "Showing expression in all available formats:"
   ]
  },
  {
   "cell_type": "code",
   "id": "5724758b61c58158",
   "metadata": {
    "ExecuteTime": {
     "end_time": "2025-07-28T07:46:11.951244Z",
     "start_time": "2025-07-28T07:46:11.949640Z"
    }
   },
   "source": [
    "print(\"Infix str:\\n\", (expr.get_infix_str()))"
   ],
   "outputs": [
    {
     "name": "stdout",
     "output_type": "stream",
     "text": [
      "Infix str:\n",
      " (log(cos((x2*c2)))*cos(x6))\n"
     ]
    }
   ],
   "execution_count": 71
  },
  {
   "cell_type": "code",
   "id": "9702bafb4f478199",
   "metadata": {
    "ExecuteTime": {
     "end_time": "2025-07-28T07:46:12.013553Z",
     "start_time": "2025-07-28T07:46:11.972675Z"
    }
   },
   "source": [
    "print(\"Prefix notation:\\n\", expr)\n",
    "print(\"Sympy:\\n\", (expr.get_infix_sympy()))\n",
    "print(\"Infix representation str:\\n\", (expr.get_infix_str()))\n",
    "print(\"Pretty\\n:\")\n",
    "print(expr.get_infix_pretty())\n",
    "print(\"Latex:\\n\", expr.get_infix_latex())\n",
    "print(\"Image:\\n\", expr.show_infix())"
   ],
   "outputs": [
    {
     "name": "stdout",
     "output_type": "stream",
     "text": [
      "Prefix notation:\n",
      " [mul log cos mul x2 c2 cos x6]\n",
      "Sympy:\n",
      " log(cos(c2*x2))*cos(x6)\n",
      "Infix representation str:\n",
      " (log(cos((x2*c2)))*cos(x6))\n",
      "Pretty\n",
      ":\n",
      "log(cos(c₂⋅x₂))⋅cos(x₆)\n",
      "Latex:\n",
      " \\log{\\left(\\cos{\\left(c_{2} x_{2} \\right)} \\right)} \\cos{\\left(x_{6} \\right)}\n"
     ]
    },
    {
     "data": {
      "text/plain": [
       "<Figure size 1000x100 with 1 Axes>"
      ],
      "image/png": "[encoded data removed]"
     },
     "metadata": {},
     "output_type": "display_data"
    },
    {
     "name": "stdout",
     "output_type": "stream",
     "text": [
      "Image:\n",
      " None\n"
     ]
    }
   ],
   "execution_count": 72
  },
  {
   "cell_type": "markdown",
   "id": "ed647104ecad44a6",
   "metadata": {},
   "source": [
    "Expressions can also be showed with evaluated constants:"
   ]
  },
  {
   "cell_type": "code",
   "id": "305e83ab258dc19c",
   "metadata": {
    "ExecuteTime": {
     "end_time": "2025-07-28T07:46:12.047150Z",
     "start_time": "2025-07-28T07:46:12.040785Z"
    }
   },
   "source": [
    "print(expr.get_infix_sympy(evaluate_consts=True)[0])"
   ],
   "outputs": [
    {
     "name": "stdout",
     "output_type": "stream",
     "text": [
      "log(cos(0.395829260349274*x2))*cos(x6)\n"
     ]
    }
   ],
   "execution_count": 73
  },
  {
   "cell_type": "markdown",
   "id": "81c0cdadc2bb3eca",
   "metadata": {},
   "source": [
    "### Evaluating an expression\n"
   ]
  },
  {
   "cell_type": "code",
   "id": "b35331dc2fcf6366",
   "metadata": {
    "ExecuteTime": {
     "end_time": "2025-07-28T07:46:12.155270Z",
     "start_time": "2025-07-28T07:46:12.071378Z"
    }
   },
   "source": [
    "# Making synthetic data\n",
    "n_samples = 1000\n",
    "X = torch.tensor(np.random.uniform(-1, 1, size=(6, n_samples))).to(device)\n",
    "# Evaluating the expression\n",
    "y = expr(X)\n",
    "# Showing free constants values\n",
    "print(\"Free consts:\", expr.free_consts.class_values)\n",
    "# Figure\n",
    "fig, ax = plt.subplots(1, 1, figsize=(10, 5))\n",
    "ax.plot(X[1].cpu().numpy(), y.detach().cpu().numpy(), 'k.', markersize=2, label='Data')\n"
   ],
   "outputs": [
    {
     "name": "stdout",
     "output_type": "stream",
     "text": [
      "Free consts: tensor([[0.3278, 0.6532, 0.3958]])\n"
     ]
    },
    {
     "data": {
      "text/plain": [
       "[<matplotlib.lines.Line2D at 0x17786a0f0>]"
      ]
     },
     "execution_count": 74,
     "metadata": {},
     "output_type": "execute_result"
    },
    {
     "data": {
      "text/plain": [
       "<Figure size 1000x500 with 1 Axes>"
      ],
      "image/png": "[encoded data removed]"
     },
     "metadata": {},
     "output_type": "display_data"
    }
   ],
   "execution_count": 74
  },
  {
   "cell_type": "markdown",
   "id": "a51feee7b7b231f5",
   "metadata": {},
   "source": [
    "### Optimizing free parameters of an expression"
   ]
  },
  {
   "cell_type": "markdown",
   "id": "4276296cdc8f9cb1",
   "metadata": {},
   "source": [
    "Note that free constant optimization is typically faster on the CPU."
   ]
  },
  {
   "cell_type": "markdown",
   "id": "36d3d0f416feffc1",
   "metadata": {},
   "source": [
    "The library of available tokens depends on the config used to generate the expressions, it can be accessed via the `library` attribute of the expressions object."
   ]
  },
  {
   "cell_type": "code",
   "id": "697e56e79742ef04",
   "metadata": {
    "ExecuteTime": {
     "end_time": "2025-07-28T07:46:12.175049Z",
     "start_time": "2025-07-28T07:46:12.172840Z"
    }
   },
   "source": [
    "lib = expressions.library\n",
    "print(lib)"
   ],
   "outputs": [
    {
     "name": "stdout",
     "output_type": "stream",
     "text": [
      "[add sub mul div pow log exp cos 1.0 c0 c1 c2 x1 x2 x3 x4 x5 x6 y dummy -]\n"
     ]
    }
   ],
   "execution_count": 75
  },
  {
   "cell_type": "code",
   "id": "16342867fba5ef4e",
   "metadata": {
    "ExecuteTime": {
     "end_time": "2025-07-28T07:46:12.199346Z",
     "start_time": "2025-07-28T07:46:12.197310Z"
    }
   },
   "source": [
    "# Encoding : dict of token names to indices\n",
    "print(lib.lib_name_to_idx)"
   ],
   "outputs": [
    {
     "name": "stdout",
     "output_type": "stream",
     "text": [
      "{np.str_('add'): 0, np.str_('sub'): 1, np.str_('mul'): 2, np.str_('div'): 3, np.str_('pow'): 4, np.str_('log'): 5, np.str_('exp'): 6, np.str_('cos'): 7, np.str_('1.0'): 8, np.str_('c0'): 9, np.str_('c1'): 10, np.str_('c2'): 11, np.str_('x1'): 12, np.str_('x2'): 13, np.str_('x3'): 14, np.str_('x4'): 15, np.str_('x5'): 16, np.str_('x6'): 17, np.str_('y'): 18, np.str_('dummy'): 19, np.str_('-'): 20}\n"
     ]
    }
   ],
   "execution_count": 76
  },
  {
   "cell_type": "code",
   "id": "70d3ca19d3471c9c",
   "metadata": {
    "ExecuteTime": {
     "end_time": "2025-07-28T07:46:12.227195Z",
     "start_time": "2025-07-28T07:46:12.225258Z"
    }
   },
   "source": [
    "print(\"Number of choosable tokens in the library:\", lib.n_choices)\n",
    "print(\"Token idx used for padding after expression:\", lib.invalid_idx)"
   ],
   "outputs": [
    {
     "name": "stdout",
     "output_type": "stream",
     "text": [
      "Number of choosable tokens in the library: 18\n",
      "Token idx used for padding after expression: 20\n"
     ]
    }
   ],
   "execution_count": 77
  },
  {
   "cell_type": "markdown",
   "id": "480d8d1dd34819c",
   "metadata": {},
   "source": [
    "Tokens are stored in the `tokens` attribute of the expressions object.\n",
    "Let's access all tokens of all expressions in the batch."
   ]
  },
  {
   "cell_type": "code",
   "id": "cb7cca4226a76163",
   "metadata": {
    "ExecuteTime": {
     "end_time": "2025-07-28T07:46:12.254066Z",
     "start_time": "2025-07-28T07:46:12.249744Z"
    }
   },
   "source": [
    "print(\"Encoded tokens:\")\n",
    "print(expressions.tokens.idx)                    # (batch_size, max_length)\n",
    "print(\"Tokens as str:\")\n",
    "expressions.idx_as_names(expressions.tokens.idx) # (batch_size, max_length)"
   ],
   "outputs": [
    {
     "name": "stdout",
     "output_type": "stream",
     "text": [
      "Encoded tokens:\n",
      "[[ 1  2 10 ... 20 20 20]\n",
      " [ 0  1 14 ... 20 20 20]\n",
      " [ 1  8  5 ... 20 20 20]\n",
      " ...\n",
      " [ 1 17  2 ... 20 20 20]\n",
      " [ 3  0 15 ... 20 20 20]\n",
      " [ 6  0 11 ... 20 20 20]]\n",
      "Tokens as str:\n"
     ]
    },
    {
     "data": {
      "text/plain": [
       "array([['sub', 'mul', 'c1', ..., '-', '-', '-'],\n",
       "       ['add', 'sub', 'x3', ..., '-', '-', '-'],\n",
       "       ['sub', '1.0', 'log', ..., '-', '-', '-'],\n",
       "       ...,\n",
       "       ['sub', 'x6', 'mul', ..., '-', '-', '-'],\n",
       "       ['div', 'add', 'x4', ..., '-', '-', '-'],\n",
       "       ['exp', 'add', 'c2', ..., '-', '-', '-']],\n",
       "      shape=(1000, 30), dtype='<U5')"
      ]
     },
     "execution_count": 78,
     "metadata": {},
     "output_type": "execute_result"
    }
   ],
   "execution_count": 78
  },
  {
   "cell_type": "code",
   "id": "7097c5fc8ceac4b1",
   "metadata": {
    "ExecuteTime": {
     "end_time": "2025-07-28T07:46:12.301398Z",
     "start_time": "2025-07-28T07:46:12.299782Z"
    }
   },
   "source": [],
   "outputs": [],
   "execution_count": null
  },
  {
   "cell_type": "code",
   "id": "27de1c66a140e912",
   "metadata": {
    "ExecuteTime": {
     "end_time": "2025-07-28T07:46:12.348525Z",
     "start_time": "2025-07-28T07:46:12.346573Z"
    }
   },
   "source": [],
   "outputs": [],
   "execution_count": null
  }
 ],
 "metadata": {
  "kernelspec": {
   "display_name": "Python 3 (ipykernel)",
   "language": "python",
   "name": "python3"
  },
  "language_info": {
   "codemirror_mode": {
    "name": "ipython",
    "version": 3
   },
   "file_extension": ".py",
   "mimetype": "text/x-python",
   "name": "python",
   "nbconvert_exporter": "python",
   "pygments_lexer": "ipython3",
   "version": "3.12.11"
  }
 },
 "nbformat": 4,
 "nbformat_minor": 5
}
